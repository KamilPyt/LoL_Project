{
 "cells": [
  {
   "cell_type": "markdown",
   "id": "7f412e8e",
   "metadata": {},
   "source": [
    "### Pozyskanie danych z użyciem API\n"
   ]
  },
  {
   "cell_type": "code",
   "execution_count": null,
   "id": "94db8f8d",
   "metadata": {},
   "outputs": [
    {
     "name": "stdout",
     "output_type": "stream",
     "text": [
      "Rate limit reached. Waiting for 120 seconds.\n"
     ]
    }
   ],
   "source": [
    "import requests\n",
    "import pandas as pd\n",
    "import time\n",
    "\n",
    "api_key = 'RGAPI-29ae8128-9fa8-4f90-a644-7c4bf3a64a46'  # klucz API \n",
    "headers = {\n",
    "    \"X-Riot-Token\": api_key\n",
    "}\n",
    "\n",
    "region = 'eun1'\n",
    "tier = ['GOLD','PLATINUM','DIAMOND']\n",
    "division = ['I','II','III','IV']\n",
    "\n",
    "def get_summoners_in_league(region, tier, division):\n",
    "    url = f\"https://{region}.api.riotgames.com/lol/league-exp/v4/entries/RANKED_SOLO_5x5/{tier}/{division}\"\n",
    "    response = requests.get(url, headers=headers)\n",
    "    return response\n",
    "\n",
    "def get_puuid(region, summoner_id):\n",
    "    url=f\"https://{region}.api.riotgames.com/lol/summoner/v4/summoners/{summoner_id}\"\n",
    "    response = requests.get(url, headers=headers)\n",
    "    return response\n",
    "\n",
    "def get_matchlist(puuid_id):\n",
    "    url = f\"https://europe.api.riotgames.com/lol/match/v5/matches/by-puuid/{puuid_id}/ids?start=0&count=100\"\n",
    "    response = requests.get(url, headers=headers)\n",
    "    return response\n",
    "\n",
    "def get_match(match_id):\n",
    "    url = f\"https://europe.api.riotgames.com/lol/match/v5/matches/{match_id}\"\n",
    "    response = requests.get(url, headers=headers)\n",
    "    return response\n",
    "\n",
    "def handle_rate_limits(response):\n",
    "    if 'X-App-Rate-Limit-Count' in response.headers:\n",
    "        requests_made = response.headers['X-App-Rate-Limit-Count'].split(',')[-1] \n",
    "        requests_count, time_window = requests_made.split(':') \n",
    "        if int(requests_count) >= 100: \n",
    "            print(\"Rate limit reached. Waiting for 120 seconds.\")\n",
    "            time.sleep(120)\n",
    "\n",
    "data = []\n",
    "columns=['summonerName','kills','assists','deaths','championName','lane','champExperience',\n",
    "         'dragonKills','baronKills','goldEarned','totalDamageDealtToChampions','totalHeal',\n",
    "         'totalMinionsKilled','turretTakedowns','turretsLost','visionScore','timePlayed','win']\n",
    "\n",
    "break_flag = False\n",
    "response = get_summoners_in_league(region, tier, division)\n",
    "handle_rate_limits(response) \n",
    "summoners = response.json()\n",
    "\n",
    "for t in tier:\n",
    "    for d in division:\n",
    "        response = get_summoners_in_league(region, t, d)\n",
    "        handle_rate_limits(response)  \n",
    "        summoners = response.json()  \n",
    "        for summoner in summoners:\n",
    "            if break_flag:\n",
    "                break\n",
    "            else:\n",
    "                summoner_id = summoner['summonerId']\n",
    "                response = get_puuid(region, summoner_id)\n",
    "                handle_rate_limits(response)  \n",
    "                player_puuid = response.json()['puuid']\n",
    "\n",
    "                response = get_matchlist(player_puuid)\n",
    "                handle_rate_limits(response)  \n",
    "                matchlist = response.json()\n",
    "                for match in range(min(10, len(matchlist))): \n",
    "                    if len(data)>=9999:\n",
    "                        break_flag=True\n",
    "                        break\n",
    "                    else:\n",
    "                        response = get_match(matchlist[match])\n",
    "                        handle_rate_limits(response)  \n",
    "                        match_info = response.json()\n",
    "                        if 'metadata' in match_info:\n",
    "                            try:\n",
    "                                player_index = match_info['metadata']['participants'].index(player_puuid)\n",
    "                            except ValueError:\n",
    "                                print(f\"Player {player_puuid} not found in match participants.\")\n",
    "                                continue\n",
    "                        else:\n",
    "                            print(f\"No 'metadata' in match info for match {matchlist[match]}. Skipping.\")\n",
    "                            continue\n",
    "\n",
    "                        if 'info' in match_info:\n",
    "                            try:\n",
    "                                observation = []\n",
    "                                observation.append(match_info['info']['participants'][player_index]['summonerName'])\n",
    "                                observation.append(match_info['info']['participants'][player_index]['kills'])\n",
    "                                observation.append(match_info['info']['participants'][player_index]['assists'])\n",
    "                                observation.append(match_info['info']['participants'][player_index]['deaths'])\n",
    "                                observation.append(match_info['info']['participants'][player_index]['championName'])\n",
    "                                observation.append(match_info['info']['participants'][player_index]['lane'])\n",
    "                                observation.append(match_info['info']['participants'][player_index]['champExperience'])\n",
    "                                observation.append(match_info['info']['participants'][player_index]['dragonKills'])\n",
    "                                observation.append(match_info['info']['participants'][player_index]['baronKills'])\n",
    "                                observation.append(match_info['info']['participants'][player_index]['goldEarned'])\n",
    "                                observation.append(match_info['info']['participants'][player_index]['totalDamageDealtToChampions'])\n",
    "                                observation.append(match_info['info']['participants'][player_index]['totalHeal'])\n",
    "                                observation.append(match_info['info']['participants'][player_index]['totalMinionsKilled'])\n",
    "                                observation.append(match_info['info']['participants'][player_index]['turretTakedowns'])\n",
    "                                observation.append(match_info['info']['participants'][player_index]['turretsLost'])\n",
    "                                observation.append(match_info['info']['participants'][player_index]['visionScore'])\n",
    "                                observation.append(match_info['info']['participants'][player_index]['timePlayed'])\n",
    "                                observation.append(match_info['info']['participants'][player_index]['win'])\n",
    "                                data.append(observation)\n",
    "                            except KeyError:\n",
    "                                continue\n",
    "                        else:\n",
    "                            print(f\"No 'info' in match info for match {matchlist[match]}. Skipping.\")\n",
    "                            continue\n",
    "                \n",
    "df = pd.DataFrame(data, columns=columns)\n",
    "df.to_csv('lol_dataV4.csv', index=False, encoding='utf-8')\n",
    "\n"
   ]
  },
  {
   "cell_type": "markdown",
   "id": "e36d3e20",
   "metadata": {},
   "source": [
    "### Wczytanie bibliotek i danych"
   ]
  },
  {
   "cell_type": "code",
   "execution_count": 1,
   "id": "a6154f2c",
   "metadata": {},
   "outputs": [
    {
     "name": "stderr",
     "output_type": "stream",
     "text": [
      "C:\\Users\\kamil\\AppData\\Local\\Temp\\ipykernel_1996\\3891542811.py:16: UserWarning: \n",
      "The dash_table package is deprecated. Please replace\n",
      "`import dash_table` with `from dash import dash_table`\n",
      "\n",
      "Also, if you're using any of the table format helpers (e.g. Group), replace \n",
      "`from dash_table.Format import Group` with \n",
      "`from dash.dash_table.Format import Group`\n",
      "  import dash_table\n"
     ]
    }
   ],
   "source": [
    "import numpy as np\n",
    "import pandas as pd\n",
    "import matplotlib.pyplot as plt\n",
    "import seaborn as sns\n",
    "from matplotlib import rcParams\n",
    "from sklearn import preprocessing\n",
    "import warnings\n",
    "from sklearn.model_selection import train_test_split\n",
    "import statsmodels.formula.api as smf\n",
    "from sklearn.metrics import accuracy_score\n",
    "from sklearn.metrics import confusion_matrix\n",
    "from sklearn.preprocessing import MinMaxScaler\n",
    "from jupyter_dash import JupyterDash\n",
    "import dash\n",
    "from dash import dcc, html\n",
    "import dash_table\n",
    "from dash.dependencies import Input, Output, State\n",
    "import pandas as pd\n",
    "import plotly.graph_objs as go\n",
    "import plotly.express as px\n",
    "\n",
    "warnings.filterwarnings('ignore')\n",
    "plt.style.use(\"ggplot\")\n",
    "rcParams['figure.figsize'] = (12, 6)"
   ]
  },
  {
   "cell_type": "code",
   "execution_count": 2,
   "id": "12888837",
   "metadata": {},
   "outputs": [
    {
     "ename": "FileNotFoundError",
     "evalue": "[Errno 2] No such file or directory: 'lol_dataV4.csv'",
     "output_type": "error",
     "traceback": [
      "\u001b[1;31m---------------------------------------------------------------------------\u001b[0m",
      "\u001b[1;31mFileNotFoundError\u001b[0m                         Traceback (most recent call last)",
      "Cell \u001b[1;32mIn[2], line 1\u001b[0m\n\u001b[1;32m----> 1\u001b[0m data \u001b[38;5;241m=\u001b[39m \u001b[43mpd\u001b[49m\u001b[38;5;241;43m.\u001b[39;49m\u001b[43mread_csv\u001b[49m\u001b[43m(\u001b[49m\u001b[38;5;124;43m'\u001b[39;49m\u001b[38;5;124;43mlol_dataV4.csv\u001b[39;49m\u001b[38;5;124;43m'\u001b[39;49m\u001b[43m)\u001b[49m\n",
      "File \u001b[1;32m~\\anaconda3\\lib\\site-packages\\pandas\\util\\_decorators.py:211\u001b[0m, in \u001b[0;36mdeprecate_kwarg.<locals>._deprecate_kwarg.<locals>.wrapper\u001b[1;34m(*args, **kwargs)\u001b[0m\n\u001b[0;32m    209\u001b[0m     \u001b[38;5;28;01melse\u001b[39;00m:\n\u001b[0;32m    210\u001b[0m         kwargs[new_arg_name] \u001b[38;5;241m=\u001b[39m new_arg_value\n\u001b[1;32m--> 211\u001b[0m \u001b[38;5;28;01mreturn\u001b[39;00m func(\u001b[38;5;241m*\u001b[39margs, \u001b[38;5;241m*\u001b[39m\u001b[38;5;241m*\u001b[39mkwargs)\n",
      "File \u001b[1;32m~\\anaconda3\\lib\\site-packages\\pandas\\util\\_decorators.py:331\u001b[0m, in \u001b[0;36mdeprecate_nonkeyword_arguments.<locals>.decorate.<locals>.wrapper\u001b[1;34m(*args, **kwargs)\u001b[0m\n\u001b[0;32m    325\u001b[0m \u001b[38;5;28;01mif\u001b[39;00m \u001b[38;5;28mlen\u001b[39m(args) \u001b[38;5;241m>\u001b[39m num_allow_args:\n\u001b[0;32m    326\u001b[0m     warnings\u001b[38;5;241m.\u001b[39mwarn(\n\u001b[0;32m    327\u001b[0m         msg\u001b[38;5;241m.\u001b[39mformat(arguments\u001b[38;5;241m=\u001b[39m_format_argument_list(allow_args)),\n\u001b[0;32m    328\u001b[0m         \u001b[38;5;167;01mFutureWarning\u001b[39;00m,\n\u001b[0;32m    329\u001b[0m         stacklevel\u001b[38;5;241m=\u001b[39mfind_stack_level(),\n\u001b[0;32m    330\u001b[0m     )\n\u001b[1;32m--> 331\u001b[0m \u001b[38;5;28;01mreturn\u001b[39;00m func(\u001b[38;5;241m*\u001b[39margs, \u001b[38;5;241m*\u001b[39m\u001b[38;5;241m*\u001b[39mkwargs)\n",
      "File \u001b[1;32m~\\anaconda3\\lib\\site-packages\\pandas\\io\\parsers\\readers.py:950\u001b[0m, in \u001b[0;36mread_csv\u001b[1;34m(filepath_or_buffer, sep, delimiter, header, names, index_col, usecols, squeeze, prefix, mangle_dupe_cols, dtype, engine, converters, true_values, false_values, skipinitialspace, skiprows, skipfooter, nrows, na_values, keep_default_na, na_filter, verbose, skip_blank_lines, parse_dates, infer_datetime_format, keep_date_col, date_parser, dayfirst, cache_dates, iterator, chunksize, compression, thousands, decimal, lineterminator, quotechar, quoting, doublequote, escapechar, comment, encoding, encoding_errors, dialect, error_bad_lines, warn_bad_lines, on_bad_lines, delim_whitespace, low_memory, memory_map, float_precision, storage_options)\u001b[0m\n\u001b[0;32m    935\u001b[0m kwds_defaults \u001b[38;5;241m=\u001b[39m _refine_defaults_read(\n\u001b[0;32m    936\u001b[0m     dialect,\n\u001b[0;32m    937\u001b[0m     delimiter,\n\u001b[1;32m   (...)\u001b[0m\n\u001b[0;32m    946\u001b[0m     defaults\u001b[38;5;241m=\u001b[39m{\u001b[38;5;124m\"\u001b[39m\u001b[38;5;124mdelimiter\u001b[39m\u001b[38;5;124m\"\u001b[39m: \u001b[38;5;124m\"\u001b[39m\u001b[38;5;124m,\u001b[39m\u001b[38;5;124m\"\u001b[39m},\n\u001b[0;32m    947\u001b[0m )\n\u001b[0;32m    948\u001b[0m kwds\u001b[38;5;241m.\u001b[39mupdate(kwds_defaults)\n\u001b[1;32m--> 950\u001b[0m \u001b[38;5;28;01mreturn\u001b[39;00m \u001b[43m_read\u001b[49m\u001b[43m(\u001b[49m\u001b[43mfilepath_or_buffer\u001b[49m\u001b[43m,\u001b[49m\u001b[43m \u001b[49m\u001b[43mkwds\u001b[49m\u001b[43m)\u001b[49m\n",
      "File \u001b[1;32m~\\anaconda3\\lib\\site-packages\\pandas\\io\\parsers\\readers.py:605\u001b[0m, in \u001b[0;36m_read\u001b[1;34m(filepath_or_buffer, kwds)\u001b[0m\n\u001b[0;32m    602\u001b[0m _validate_names(kwds\u001b[38;5;241m.\u001b[39mget(\u001b[38;5;124m\"\u001b[39m\u001b[38;5;124mnames\u001b[39m\u001b[38;5;124m\"\u001b[39m, \u001b[38;5;28;01mNone\u001b[39;00m))\n\u001b[0;32m    604\u001b[0m \u001b[38;5;66;03m# Create the parser.\u001b[39;00m\n\u001b[1;32m--> 605\u001b[0m parser \u001b[38;5;241m=\u001b[39m TextFileReader(filepath_or_buffer, \u001b[38;5;241m*\u001b[39m\u001b[38;5;241m*\u001b[39mkwds)\n\u001b[0;32m    607\u001b[0m \u001b[38;5;28;01mif\u001b[39;00m chunksize \u001b[38;5;129;01mor\u001b[39;00m iterator:\n\u001b[0;32m    608\u001b[0m     \u001b[38;5;28;01mreturn\u001b[39;00m parser\n",
      "File \u001b[1;32m~\\anaconda3\\lib\\site-packages\\pandas\\io\\parsers\\readers.py:1442\u001b[0m, in \u001b[0;36mTextFileReader.__init__\u001b[1;34m(self, f, engine, **kwds)\u001b[0m\n\u001b[0;32m   1439\u001b[0m     \u001b[38;5;28mself\u001b[39m\u001b[38;5;241m.\u001b[39moptions[\u001b[38;5;124m\"\u001b[39m\u001b[38;5;124mhas_index_names\u001b[39m\u001b[38;5;124m\"\u001b[39m] \u001b[38;5;241m=\u001b[39m kwds[\u001b[38;5;124m\"\u001b[39m\u001b[38;5;124mhas_index_names\u001b[39m\u001b[38;5;124m\"\u001b[39m]\n\u001b[0;32m   1441\u001b[0m \u001b[38;5;28mself\u001b[39m\u001b[38;5;241m.\u001b[39mhandles: IOHandles \u001b[38;5;241m|\u001b[39m \u001b[38;5;28;01mNone\u001b[39;00m \u001b[38;5;241m=\u001b[39m \u001b[38;5;28;01mNone\u001b[39;00m\n\u001b[1;32m-> 1442\u001b[0m \u001b[38;5;28mself\u001b[39m\u001b[38;5;241m.\u001b[39m_engine \u001b[38;5;241m=\u001b[39m \u001b[38;5;28;43mself\u001b[39;49m\u001b[38;5;241;43m.\u001b[39;49m\u001b[43m_make_engine\u001b[49m\u001b[43m(\u001b[49m\u001b[43mf\u001b[49m\u001b[43m,\u001b[49m\u001b[43m \u001b[49m\u001b[38;5;28;43mself\u001b[39;49m\u001b[38;5;241;43m.\u001b[39;49m\u001b[43mengine\u001b[49m\u001b[43m)\u001b[49m\n",
      "File \u001b[1;32m~\\anaconda3\\lib\\site-packages\\pandas\\io\\parsers\\readers.py:1735\u001b[0m, in \u001b[0;36mTextFileReader._make_engine\u001b[1;34m(self, f, engine)\u001b[0m\n\u001b[0;32m   1733\u001b[0m     \u001b[38;5;28;01mif\u001b[39;00m \u001b[38;5;124m\"\u001b[39m\u001b[38;5;124mb\u001b[39m\u001b[38;5;124m\"\u001b[39m \u001b[38;5;129;01mnot\u001b[39;00m \u001b[38;5;129;01min\u001b[39;00m mode:\n\u001b[0;32m   1734\u001b[0m         mode \u001b[38;5;241m+\u001b[39m\u001b[38;5;241m=\u001b[39m \u001b[38;5;124m\"\u001b[39m\u001b[38;5;124mb\u001b[39m\u001b[38;5;124m\"\u001b[39m\n\u001b[1;32m-> 1735\u001b[0m \u001b[38;5;28mself\u001b[39m\u001b[38;5;241m.\u001b[39mhandles \u001b[38;5;241m=\u001b[39m \u001b[43mget_handle\u001b[49m\u001b[43m(\u001b[49m\n\u001b[0;32m   1736\u001b[0m \u001b[43m    \u001b[49m\u001b[43mf\u001b[49m\u001b[43m,\u001b[49m\n\u001b[0;32m   1737\u001b[0m \u001b[43m    \u001b[49m\u001b[43mmode\u001b[49m\u001b[43m,\u001b[49m\n\u001b[0;32m   1738\u001b[0m \u001b[43m    \u001b[49m\u001b[43mencoding\u001b[49m\u001b[38;5;241;43m=\u001b[39;49m\u001b[38;5;28;43mself\u001b[39;49m\u001b[38;5;241;43m.\u001b[39;49m\u001b[43moptions\u001b[49m\u001b[38;5;241;43m.\u001b[39;49m\u001b[43mget\u001b[49m\u001b[43m(\u001b[49m\u001b[38;5;124;43m\"\u001b[39;49m\u001b[38;5;124;43mencoding\u001b[39;49m\u001b[38;5;124;43m\"\u001b[39;49m\u001b[43m,\u001b[49m\u001b[43m \u001b[49m\u001b[38;5;28;43;01mNone\u001b[39;49;00m\u001b[43m)\u001b[49m\u001b[43m,\u001b[49m\n\u001b[0;32m   1739\u001b[0m \u001b[43m    \u001b[49m\u001b[43mcompression\u001b[49m\u001b[38;5;241;43m=\u001b[39;49m\u001b[38;5;28;43mself\u001b[39;49m\u001b[38;5;241;43m.\u001b[39;49m\u001b[43moptions\u001b[49m\u001b[38;5;241;43m.\u001b[39;49m\u001b[43mget\u001b[49m\u001b[43m(\u001b[49m\u001b[38;5;124;43m\"\u001b[39;49m\u001b[38;5;124;43mcompression\u001b[39;49m\u001b[38;5;124;43m\"\u001b[39;49m\u001b[43m,\u001b[49m\u001b[43m \u001b[49m\u001b[38;5;28;43;01mNone\u001b[39;49;00m\u001b[43m)\u001b[49m\u001b[43m,\u001b[49m\n\u001b[0;32m   1740\u001b[0m \u001b[43m    \u001b[49m\u001b[43mmemory_map\u001b[49m\u001b[38;5;241;43m=\u001b[39;49m\u001b[38;5;28;43mself\u001b[39;49m\u001b[38;5;241;43m.\u001b[39;49m\u001b[43moptions\u001b[49m\u001b[38;5;241;43m.\u001b[39;49m\u001b[43mget\u001b[49m\u001b[43m(\u001b[49m\u001b[38;5;124;43m\"\u001b[39;49m\u001b[38;5;124;43mmemory_map\u001b[39;49m\u001b[38;5;124;43m\"\u001b[39;49m\u001b[43m,\u001b[49m\u001b[43m \u001b[49m\u001b[38;5;28;43;01mFalse\u001b[39;49;00m\u001b[43m)\u001b[49m\u001b[43m,\u001b[49m\n\u001b[0;32m   1741\u001b[0m \u001b[43m    \u001b[49m\u001b[43mis_text\u001b[49m\u001b[38;5;241;43m=\u001b[39;49m\u001b[43mis_text\u001b[49m\u001b[43m,\u001b[49m\n\u001b[0;32m   1742\u001b[0m \u001b[43m    \u001b[49m\u001b[43merrors\u001b[49m\u001b[38;5;241;43m=\u001b[39;49m\u001b[38;5;28;43mself\u001b[39;49m\u001b[38;5;241;43m.\u001b[39;49m\u001b[43moptions\u001b[49m\u001b[38;5;241;43m.\u001b[39;49m\u001b[43mget\u001b[49m\u001b[43m(\u001b[49m\u001b[38;5;124;43m\"\u001b[39;49m\u001b[38;5;124;43mencoding_errors\u001b[39;49m\u001b[38;5;124;43m\"\u001b[39;49m\u001b[43m,\u001b[49m\u001b[43m \u001b[49m\u001b[38;5;124;43m\"\u001b[39;49m\u001b[38;5;124;43mstrict\u001b[39;49m\u001b[38;5;124;43m\"\u001b[39;49m\u001b[43m)\u001b[49m\u001b[43m,\u001b[49m\n\u001b[0;32m   1743\u001b[0m \u001b[43m    \u001b[49m\u001b[43mstorage_options\u001b[49m\u001b[38;5;241;43m=\u001b[39;49m\u001b[38;5;28;43mself\u001b[39;49m\u001b[38;5;241;43m.\u001b[39;49m\u001b[43moptions\u001b[49m\u001b[38;5;241;43m.\u001b[39;49m\u001b[43mget\u001b[49m\u001b[43m(\u001b[49m\u001b[38;5;124;43m\"\u001b[39;49m\u001b[38;5;124;43mstorage_options\u001b[39;49m\u001b[38;5;124;43m\"\u001b[39;49m\u001b[43m,\u001b[49m\u001b[43m \u001b[49m\u001b[38;5;28;43;01mNone\u001b[39;49;00m\u001b[43m)\u001b[49m\u001b[43m,\u001b[49m\n\u001b[0;32m   1744\u001b[0m \u001b[43m\u001b[49m\u001b[43m)\u001b[49m\n\u001b[0;32m   1745\u001b[0m \u001b[38;5;28;01massert\u001b[39;00m \u001b[38;5;28mself\u001b[39m\u001b[38;5;241m.\u001b[39mhandles \u001b[38;5;129;01mis\u001b[39;00m \u001b[38;5;129;01mnot\u001b[39;00m \u001b[38;5;28;01mNone\u001b[39;00m\n\u001b[0;32m   1746\u001b[0m f \u001b[38;5;241m=\u001b[39m \u001b[38;5;28mself\u001b[39m\u001b[38;5;241m.\u001b[39mhandles\u001b[38;5;241m.\u001b[39mhandle\n",
      "File \u001b[1;32m~\\anaconda3\\lib\\site-packages\\pandas\\io\\common.py:856\u001b[0m, in \u001b[0;36mget_handle\u001b[1;34m(path_or_buf, mode, encoding, compression, memory_map, is_text, errors, storage_options)\u001b[0m\n\u001b[0;32m    851\u001b[0m \u001b[38;5;28;01melif\u001b[39;00m \u001b[38;5;28misinstance\u001b[39m(handle, \u001b[38;5;28mstr\u001b[39m):\n\u001b[0;32m    852\u001b[0m     \u001b[38;5;66;03m# Check whether the filename is to be opened in binary mode.\u001b[39;00m\n\u001b[0;32m    853\u001b[0m     \u001b[38;5;66;03m# Binary mode does not support 'encoding' and 'newline'.\u001b[39;00m\n\u001b[0;32m    854\u001b[0m     \u001b[38;5;28;01mif\u001b[39;00m ioargs\u001b[38;5;241m.\u001b[39mencoding \u001b[38;5;129;01mand\u001b[39;00m \u001b[38;5;124m\"\u001b[39m\u001b[38;5;124mb\u001b[39m\u001b[38;5;124m\"\u001b[39m \u001b[38;5;129;01mnot\u001b[39;00m \u001b[38;5;129;01min\u001b[39;00m ioargs\u001b[38;5;241m.\u001b[39mmode:\n\u001b[0;32m    855\u001b[0m         \u001b[38;5;66;03m# Encoding\u001b[39;00m\n\u001b[1;32m--> 856\u001b[0m         handle \u001b[38;5;241m=\u001b[39m \u001b[38;5;28;43mopen\u001b[39;49m\u001b[43m(\u001b[49m\n\u001b[0;32m    857\u001b[0m \u001b[43m            \u001b[49m\u001b[43mhandle\u001b[49m\u001b[43m,\u001b[49m\n\u001b[0;32m    858\u001b[0m \u001b[43m            \u001b[49m\u001b[43mioargs\u001b[49m\u001b[38;5;241;43m.\u001b[39;49m\u001b[43mmode\u001b[49m\u001b[43m,\u001b[49m\n\u001b[0;32m    859\u001b[0m \u001b[43m            \u001b[49m\u001b[43mencoding\u001b[49m\u001b[38;5;241;43m=\u001b[39;49m\u001b[43mioargs\u001b[49m\u001b[38;5;241;43m.\u001b[39;49m\u001b[43mencoding\u001b[49m\u001b[43m,\u001b[49m\n\u001b[0;32m    860\u001b[0m \u001b[43m            \u001b[49m\u001b[43merrors\u001b[49m\u001b[38;5;241;43m=\u001b[39;49m\u001b[43merrors\u001b[49m\u001b[43m,\u001b[49m\n\u001b[0;32m    861\u001b[0m \u001b[43m            \u001b[49m\u001b[43mnewline\u001b[49m\u001b[38;5;241;43m=\u001b[39;49m\u001b[38;5;124;43m\"\u001b[39;49m\u001b[38;5;124;43m\"\u001b[39;49m\u001b[43m,\u001b[49m\n\u001b[0;32m    862\u001b[0m \u001b[43m        \u001b[49m\u001b[43m)\u001b[49m\n\u001b[0;32m    863\u001b[0m     \u001b[38;5;28;01melse\u001b[39;00m:\n\u001b[0;32m    864\u001b[0m         \u001b[38;5;66;03m# Binary mode\u001b[39;00m\n\u001b[0;32m    865\u001b[0m         handle \u001b[38;5;241m=\u001b[39m \u001b[38;5;28mopen\u001b[39m(handle, ioargs\u001b[38;5;241m.\u001b[39mmode)\n",
      "\u001b[1;31mFileNotFoundError\u001b[0m: [Errno 2] No such file or directory: 'lol_dataV4.csv'"
     ]
    }
   ],
   "source": [
    "data = pd.read_csv('lol_dataV4.csv')"
   ]
  },
  {
   "cell_type": "markdown",
   "id": "6c1cc152",
   "metadata": {},
   "source": [
    "### Eksploracyjna analiza danych"
   ]
  },
  {
   "cell_type": "code",
   "execution_count": null,
   "id": "a52a104f",
   "metadata": {},
   "outputs": [],
   "source": [
    "data.head()"
   ]
  },
  {
   "cell_type": "code",
   "execution_count": null,
   "id": "f255ba74",
   "metadata": {},
   "outputs": [],
   "source": [
    "data.shape"
   ]
  },
  {
   "cell_type": "code",
   "execution_count": null,
   "id": "47b00bbf",
   "metadata": {},
   "outputs": [],
   "source": [
    "data.describe()"
   ]
  },
  {
   "cell_type": "code",
   "execution_count": null,
   "id": "e69cc5d0",
   "metadata": {},
   "outputs": [],
   "source": [
    "data.info()"
   ]
  },
  {
   "cell_type": "code",
   "execution_count": null,
   "id": "4c7b1066",
   "metadata": {},
   "outputs": [],
   "source": [
    "data.duplicated().sum()"
   ]
  },
  {
   "cell_type": "code",
   "execution_count": null,
   "id": "58e2127c",
   "metadata": {},
   "outputs": [],
   "source": [
    "data[data.duplicated(keep = False)]"
   ]
  },
  {
   "cell_type": "code",
   "execution_count": null,
   "id": "f02cab10",
   "metadata": {},
   "outputs": [],
   "source": [
    "data = data[data.duplicated() == False]\n",
    "data.shape"
   ]
  },
  {
   "cell_type": "code",
   "execution_count": null,
   "id": "530f8a0c",
   "metadata": {},
   "outputs": [],
   "source": [
    "data.lane.unique()"
   ]
  },
  {
   "cell_type": "code",
   "execution_count": null,
   "id": "f288f34d",
   "metadata": {},
   "outputs": [],
   "source": [
    "data = data.query('lane != \"NONE\"')\n",
    "data.lane.unique()"
   ]
  },
  {
   "cell_type": "code",
   "execution_count": null,
   "id": "ac46ca6c",
   "metadata": {},
   "outputs": [],
   "source": [
    "print(data.win.value_counts())\n",
    "print()\n",
    "print(data.win.value_counts(normalize = True))"
   ]
  },
  {
   "cell_type": "code",
   "execution_count": null,
   "id": "92ea1dc3",
   "metadata": {},
   "outputs": [],
   "source": [
    "data.championName.nunique()"
   ]
  },
  {
   "cell_type": "code",
   "execution_count": null,
   "id": "74c67aa2",
   "metadata": {},
   "outputs": [],
   "source": [
    "data.championName.value_counts().head(10)"
   ]
  },
  {
   "cell_type": "markdown",
   "id": "46746c53",
   "metadata": {},
   "source": [
    "### Zrozumienie i przygotowanie zmiennych"
   ]
  },
  {
   "cell_type": "code",
   "execution_count": null,
   "id": "c9274b36",
   "metadata": {},
   "outputs": [],
   "source": [
    "data.head()"
   ]
  },
  {
   "cell_type": "code",
   "execution_count": null,
   "id": "70681d0d",
   "metadata": {},
   "outputs": [],
   "source": [
    "data.describe()"
   ]
  },
  {
   "cell_type": "code",
   "execution_count": null,
   "id": "b62d8b8f",
   "metadata": {},
   "outputs": [],
   "source": [
    "data_numerical = data[['kills', 'assists', 'deaths', 'champExperience', 'dragonKills',\n",
    "       'baronKills', 'goldEarned', 'totalDamageDealtToChampions', 'totalHeal',\n",
    "       'totalMinionsKilled', 'turretTakedowns', 'turretsLost', 'visionScore',\n",
    "       'timePlayed']]\n",
    "data_numerical"
   ]
  },
  {
   "cell_type": "code",
   "execution_count": null,
   "id": "69b2afa9",
   "metadata": {},
   "outputs": [],
   "source": [
    "data_numerical.hist(bins = 50, edgecolor = 'black')\n",
    "plt.tight_layout()\n",
    "plt.show()"
   ]
  },
  {
   "cell_type": "code",
   "execution_count": null,
   "id": "26a99b98",
   "metadata": {},
   "outputs": [],
   "source": [
    "plt.figure(figsize=(15,5))\n",
    "\n",
    "plt.subplot(1,3,1)\n",
    "sns.distplot(data.query('win == 1')['kills'], label = 'win')\n",
    "sns.distplot(data.query('win == 0')['kills'], label = 'defeat')\n",
    "plt.legend()\n",
    "\n",
    "plt.subplot(1,3,2)\n",
    "sns.distplot(data.query('win == 1')['assists'], label = 'win')\n",
    "sns.distplot(data.query('win == 0')['assists'], label = 'defeat')\n",
    "plt.legend()\n",
    "\n",
    "plt.subplot(1,3,3)\n",
    "sns.distplot(data.query('win == 1')['deaths'], label = 'win')\n",
    "sns.distplot(data.query('win == 0')['deaths'], label = 'defeat')\n",
    "plt.legend()\n",
    "\n",
    "plt.show()"
   ]
  },
  {
   "cell_type": "code",
   "execution_count": null,
   "id": "6a85f9a8",
   "metadata": {},
   "outputs": [],
   "source": [
    "plt.figure(figsize=(15,5))\n",
    "\n",
    "plt.subplot(1,4,1)\n",
    "sns.distplot(data.query('win == 1')['dragonKills'], label = 'win')\n",
    "sns.distplot(data.query('win == 0')['dragonKills'], label = 'defeat')\n",
    "plt.legend()\n",
    "\n",
    "plt.subplot(1,4,2)\n",
    "sns.distplot(data.query('win == 1')['baronKills'], label = 'win')\n",
    "sns.distplot(data.query('win == 0')['baronKills'], label = 'defeat')\n",
    "plt.legend()\n",
    "\n",
    "plt.subplot(1,4,3)\n",
    "sns.distplot(data.query('win == 1')['turretTakedowns'], label = 'win')\n",
    "sns.distplot(data.query('win == 0')['turretTakedowns'], label = 'defeat')\n",
    "plt.legend()\n",
    "\n",
    "plt.subplot(1,4,4)\n",
    "sns.distplot(data.query('win == 1')['turretsLost'], label = 'win')\n",
    "sns.distplot(data.query('win == 0')['turretsLost'], label = 'defeat')\n",
    "plt.legend()\n",
    "\n",
    "plt.show()"
   ]
  },
  {
   "cell_type": "code",
   "execution_count": null,
   "id": "01c15047",
   "metadata": {},
   "outputs": [],
   "source": [
    "plt.figure(figsize=(15,5))\n",
    "\n",
    "plt.subplot(1,3,1)\n",
    "sns.distplot(data.query('win == 1')['champExperience'], label = 'win')\n",
    "sns.distplot(data.query('win == 0')['champExperience'], label = 'defeat')\n",
    "plt.legend()\n",
    "\n",
    "plt.subplot(1,3,2)\n",
    "sns.distplot(data.query('win == 1')['goldEarned'], label = 'win')\n",
    "sns.distplot(data.query('win == 0')['goldEarned'], label = 'defeat')\n",
    "plt.legend()\n",
    "\n",
    "plt.subplot(1,3,3)\n",
    "sns.distplot(data.query('win == 1')['totalDamageDealtToChampions'], label = 'win')\n",
    "sns.distplot(data.query('win == 0')['totalDamageDealtToChampions'], label = 'defeat')\n",
    "plt.legend()\n",
    "\n",
    "plt.show()"
   ]
  },
  {
   "cell_type": "code",
   "execution_count": null,
   "id": "0df72e37",
   "metadata": {},
   "outputs": [],
   "source": [
    "plt.figure(figsize=(15,5))\n",
    "\n",
    "plt.subplot(1,4,1)\n",
    "sns.distplot(data.query('win == 1')['totalHeal'], label = 'win')\n",
    "sns.distplot(data.query('win == 0')['totalHeal'], label = 'defeat')\n",
    "plt.legend()\n",
    "\n",
    "plt.subplot(1,4,2)\n",
    "sns.distplot(data.query('win == 1')['totalMinionsKilled'], label = 'win')\n",
    "sns.distplot(data.query('win == 0')['totalMinionsKilled'], label = 'defeat')\n",
    "plt.legend()\n",
    "\n",
    "plt.subplot(1,4,3)\n",
    "sns.distplot(data.query('win == 1')['visionScore'], label = 'win')\n",
    "sns.distplot(data.query('win == 0')['visionScore'], label = 'defeat')\n",
    "plt.legend()\n",
    "\n",
    "plt.subplot(1,4,4)\n",
    "sns.distplot(data.query('win == 1')['timePlayed'], label = 'win')\n",
    "sns.distplot(data.query('win == 0')['timePlayed'], label = 'defeat')\n",
    "plt.legend()\n",
    "\n",
    "plt.show()"
   ]
  },
  {
   "cell_type": "code",
   "execution_count": null,
   "id": "ccb7e525",
   "metadata": {},
   "outputs": [],
   "source": [
    "data_categorical = data[['summonerName', 'lane', 'win']]"
   ]
  },
  {
   "cell_type": "code",
   "execution_count": null,
   "id": "d071e9cc",
   "metadata": {},
   "outputs": [],
   "source": [
    "data_categorical.lane.value_counts()"
   ]
  },
  {
   "cell_type": "code",
   "execution_count": null,
   "id": "512ad12a",
   "metadata": {},
   "outputs": [],
   "source": [
    "sns.countplot(x = 'lane', data = data_categorical)\n",
    "plt.show()"
   ]
  },
  {
   "cell_type": "code",
   "execution_count": null,
   "id": "d23e4456",
   "metadata": {},
   "outputs": [],
   "source": [
    "data_categorical.win.value_counts()"
   ]
  },
  {
   "cell_type": "code",
   "execution_count": null,
   "id": "7b896f7a",
   "metadata": {},
   "outputs": [],
   "source": [
    "sns.countplot(x = 'win', data = data_categorical)\n",
    "plt.show()"
   ]
  },
  {
   "cell_type": "markdown",
   "id": "615b6cee",
   "metadata": {},
   "source": [
    "### Badanie relacji między zmiennymi"
   ]
  },
  {
   "cell_type": "code",
   "execution_count": null,
   "id": "99ef6cb1",
   "metadata": {},
   "outputs": [],
   "source": [
    "sns.heatmap(data_numerical.corr(), cmap = 'vlag', annot = True, fmt = '.2f')\n",
    "plt.show()"
   ]
  },
  {
   "cell_type": "code",
   "execution_count": null,
   "id": "427cd8b3",
   "metadata": {},
   "outputs": [],
   "source": [
    "data_numerical.drop(['goldEarned', 'totalDamageDealtToChampions', 'champExperience', 'timePlayed'], axis = 1, inplace = True)"
   ]
  },
  {
   "cell_type": "code",
   "execution_count": null,
   "id": "b6f98fd2",
   "metadata": {},
   "outputs": [],
   "source": [
    "sns.heatmap(data_numerical.corr(), cmap = 'vlag', annot = True, fmt = '.2f')\n",
    "plt.show()"
   ]
  },
  {
   "cell_type": "code",
   "execution_count": null,
   "id": "20f2b3c0",
   "metadata": {},
   "outputs": [],
   "source": [
    "data_numerical_plus_kills = data_numerical.join(data['win'])"
   ]
  },
  {
   "cell_type": "code",
   "execution_count": null,
   "id": "4f432b59",
   "metadata": {},
   "outputs": [],
   "source": [
    "# sns.pairplot(data_numerical_plus_kills, hue = 'win')\n",
    "# plt.show()"
   ]
  },
  {
   "cell_type": "markdown",
   "id": "f3057553",
   "metadata": {},
   "source": [
    "### Modele"
   ]
  },
  {
   "cell_type": "code",
   "execution_count": null,
   "id": "80864633",
   "metadata": {},
   "outputs": [],
   "source": [
    "model_data = data.drop(['summonerName', 'championName'], axis = 1)\n",
    "model_data['win'] = [1 if x == True else 0 for x in model_data['win']]\n",
    "model_data"
   ]
  },
  {
   "cell_type": "code",
   "execution_count": null,
   "id": "6881e22a",
   "metadata": {},
   "outputs": [],
   "source": [
    "model_data.lane.unique()"
   ]
  },
  {
   "cell_type": "code",
   "execution_count": null,
   "id": "1e62249e",
   "metadata": {},
   "outputs": [],
   "source": [
    "model_data_bottom = model_data.query('lane == \"BOTTOM\"')\n",
    "print(model_data_bottom.shape)\n",
    "\n",
    "model_data_middle = model_data.query('lane == \"MIDDLE\"')\n",
    "print(model_data_middle.shape)\n",
    "\n",
    "model_data_jungle = model_data.query('lane == \"JUNGLE\"')\n",
    "print(model_data_jungle.shape)\n",
    "\n",
    "model_data_top = model_data.query('lane == \"TOP\"')\n",
    "print(model_data_top.shape)"
   ]
  },
  {
   "cell_type": "code",
   "execution_count": null,
   "id": "a6b94fc8",
   "metadata": {},
   "outputs": [],
   "source": [
    "# model bottom\n",
    "X_train, X_test, y_train, y_test = train_test_split(model_data_bottom.drop('win', axis = 1), model_data_bottom['win'], test_size=0.3, random_state=123)\n",
    "train = X_train.join(y_train)\n",
    "test = X_test.join(y_test)\n",
    "\n",
    "train.drop('lane', axis = 1, inplace = True)\n",
    "test.drop('lane', axis = 1, inplace = True)\n",
    "\n",
    "scaler = MinMaxScaler()\n",
    "train_normalized = pd.DataFrame(scaler.fit_transform(train), columns = train.columns)\n",
    "test_normalizd = pd.DataFrame(scaler.fit_transform(test), columns = test.columns)\n",
    "\n",
    "\n",
    "model_bottom = smf.logit(formula = 'win ~ kills + assists + deaths + champExperience + dragonKills + baronKills + goldEarned + totalDamageDealtToChampions + totalHeal + totalMinionsKilled + turretTakedowns + turretsLost + visionScore + timePlayed', data = train_normalized).fit()\n",
    "model_bottom.summary()"
   ]
  },
  {
   "cell_type": "code",
   "execution_count": null,
   "id": "81486a6d",
   "metadata": {},
   "outputs": [],
   "source": [
    "# usuwanie zmiennych statystycznie nieistotnych na podstawie wartości p-value"
   ]
  },
  {
   "cell_type": "code",
   "execution_count": null,
   "id": "8e7334e6",
   "metadata": {},
   "outputs": [],
   "source": [
    "model_bottom = smf.logit(formula = 'win ~ kills + assists + deaths + champExperience + baronKills + goldEarned + totalDamageDealtToChampions + totalHeal + totalMinionsKilled + turretTakedowns + turretsLost + visionScore + timePlayed', data = train_normalized).fit()\n",
    "model_bottom.summary()"
   ]
  },
  {
   "cell_type": "code",
   "execution_count": null,
   "id": "52be53b2",
   "metadata": {},
   "outputs": [],
   "source": [
    "model_bottom = smf.logit(formula = 'win ~ kills + assists + deaths + champExperience + goldEarned + totalDamageDealtToChampions + totalHeal + totalMinionsKilled + turretTakedowns + turretsLost + visionScore + timePlayed', data = train_normalized).fit()\n",
    "model_bottom.summary()"
   ]
  },
  {
   "cell_type": "code",
   "execution_count": null,
   "id": "263221e6",
   "metadata": {},
   "outputs": [],
   "source": [
    "model_bottom = smf.logit(formula = 'win ~ kills + assists + deaths + champExperience + goldEarned + totalDamageDealtToChampions + totalMinionsKilled + turretTakedowns + turretsLost + visionScore + timePlayed', data = train_normalized).fit()\n",
    "model_bottom.summary()"
   ]
  },
  {
   "cell_type": "code",
   "execution_count": null,
   "id": "13973611",
   "metadata": {},
   "outputs": [],
   "source": [
    "model_bottom = smf.logit(formula = 'win ~ kills + assists + deaths + champExperience + totalDamageDealtToChampions + totalMinionsKilled + turretTakedowns + turretsLost + visionScore + timePlayed', data = train_normalized).fit()\n",
    "model_bottom.summary()"
   ]
  },
  {
   "cell_type": "code",
   "execution_count": null,
   "id": "be0929a9",
   "metadata": {},
   "outputs": [],
   "source": [
    "model_bottom = smf.logit(formula = 'win ~ kills + assists + deaths + totalDamageDealtToChampions + totalMinionsKilled + turretTakedowns + turretsLost + visionScore + timePlayed', data = train_normalized).fit()\n",
    "model_bottom.summary()"
   ]
  },
  {
   "cell_type": "code",
   "execution_count": null,
   "id": "deb3d739",
   "metadata": {},
   "outputs": [],
   "source": [
    "model_bottom = smf.logit(formula = 'win ~ assists + deaths + totalDamageDealtToChampions + totalMinionsKilled + turretTakedowns + turretsLost + visionScore + timePlayed', data = train_normalized).fit()\n",
    "model_bottom.summary()"
   ]
  },
  {
   "cell_type": "code",
   "execution_count": null,
   "id": "b4dcce2b",
   "metadata": {},
   "outputs": [],
   "source": [
    "model_bottom = smf.logit(formula = 'win ~ assists + deaths + totalMinionsKilled + turretTakedowns + turretsLost + visionScore + timePlayed', data = train_normalized).fit()\n",
    "model_bottom.summary()"
   ]
  },
  {
   "cell_type": "code",
   "execution_count": null,
   "id": "e70f32b0",
   "metadata": {},
   "outputs": [],
   "source": [
    "model_bottom_prediction = model_bottom.predict(test_normalizd) > 0.5\n",
    "accuracy_bottom = accuracy_score(model_bottom_prediction, y_test)\n",
    "accuracy_bottom"
   ]
  },
  {
   "cell_type": "code",
   "execution_count": null,
   "id": "81eed639",
   "metadata": {},
   "outputs": [],
   "source": [
    "cm_bottom = confusion_matrix(y_test, model_bottom_prediction)\n",
    "\n",
    "sns.heatmap(cm_bottom, annot=True, fmt=\"d\")\n",
    "plt.ylabel('Real value')\n",
    "plt.xlabel('Predicted value')\n",
    "plt.show()"
   ]
  },
  {
   "cell_type": "code",
   "execution_count": null,
   "id": "356228e4",
   "metadata": {},
   "outputs": [],
   "source": [
    "# model middle\n",
    "X_train, X_test, y_train, y_test = train_test_split(model_data_middle.drop('win', axis = 1), model_data_middle['win'], test_size=0.3, random_state=123)\n",
    "train = X_train.join(y_train)\n",
    "test = X_test.join(y_test)\n",
    "\n",
    "train.drop('lane', axis = 1, inplace = True)\n",
    "test.drop('lane', axis = 1, inplace = True)\n",
    "\n",
    "scaler = MinMaxScaler()\n",
    "train_normalized = pd.DataFrame(scaler.fit_transform(train), columns = train.columns)\n",
    "test_normalizd = pd.DataFrame(scaler.fit_transform(test), columns = test.columns)\n",
    "\n",
    "model_middle = smf.logit(formula = 'win ~ kills + assists + deaths + champExperience + dragonKills + baronKills + goldEarned + totalDamageDealtToChampions + totalHeal + totalMinionsKilled + turretTakedowns + turretsLost + visionScore + timePlayed', data = train_normalized).fit()\n",
    "model_middle.summary()"
   ]
  },
  {
   "cell_type": "code",
   "execution_count": null,
   "id": "d13d658d",
   "metadata": {},
   "outputs": [],
   "source": [
    "model_middle = smf.logit(formula = 'win ~ kills + assists + deaths + champExperience + dragonKills + goldEarned + totalDamageDealtToChampions + totalHeal + totalMinionsKilled + turretTakedowns + turretsLost + visionScore + timePlayed', data = train_normalized).fit()\n",
    "model_middle.summary()"
   ]
  },
  {
   "cell_type": "code",
   "execution_count": null,
   "id": "e3c7a324",
   "metadata": {},
   "outputs": [],
   "source": [
    "model_middle = smf.logit(formula = 'win ~ kills + assists + deaths + champExperience + dragonKills + goldEarned + totalDamageDealtToChampions + totalMinionsKilled + turretTakedowns + turretsLost + visionScore + timePlayed', data = train_normalized).fit()\n",
    "model_middle.summary()"
   ]
  },
  {
   "cell_type": "code",
   "execution_count": null,
   "id": "8bd3c484",
   "metadata": {},
   "outputs": [],
   "source": [
    "model_middle = smf.logit(formula = 'win ~ kills + assists + deaths + champExperience + dragonKills + totalDamageDealtToChampions + totalMinionsKilled + turretTakedowns + turretsLost + visionScore + timePlayed', data = train_normalized).fit()\n",
    "model_middle.summary()"
   ]
  },
  {
   "cell_type": "code",
   "execution_count": null,
   "id": "caa7e4e9",
   "metadata": {},
   "outputs": [],
   "source": [
    "model_middle = smf.logit(formula = 'win ~ kills + assists + deaths + champExperience + dragonKills + totalDamageDealtToChampions + totalMinionsKilled + turretTakedowns + turretsLost + timePlayed', data = train_normalized).fit()\n",
    "model_middle.summary()"
   ]
  },
  {
   "cell_type": "code",
   "execution_count": null,
   "id": "2ad1c48b",
   "metadata": {},
   "outputs": [],
   "source": [
    "model_middle = smf.logit(formula = 'win ~ kills + assists + deaths + champExperience + dragonKills + totalMinionsKilled + turretTakedowns + turretsLost + timePlayed', data = train_normalized).fit()\n",
    "model_middle.summary()"
   ]
  },
  {
   "cell_type": "code",
   "execution_count": null,
   "id": "50671635",
   "metadata": {},
   "outputs": [],
   "source": [
    "model_middle = smf.logit(formula = 'win ~ kills + assists + deaths + champExperience + totalMinionsKilled + turretTakedowns + turretsLost + timePlayed', data = train_normalized).fit()\n",
    "model_middle.summary()"
   ]
  },
  {
   "cell_type": "code",
   "execution_count": 3,
   "id": "ee3b00cf",
   "metadata": {},
   "outputs": [
    {
     "ename": "NameError",
     "evalue": "name 'train_normalized' is not defined",
     "output_type": "error",
     "traceback": [
      "\u001b[1;31m---------------------------------------------------------------------------\u001b[0m",
      "\u001b[1;31mNameError\u001b[0m                                 Traceback (most recent call last)",
      "Cell \u001b[1;32mIn[3], line 1\u001b[0m\n\u001b[1;32m----> 1\u001b[0m model_middle \u001b[38;5;241m=\u001b[39m smf\u001b[38;5;241m.\u001b[39mlogit(formula \u001b[38;5;241m=\u001b[39m \u001b[38;5;124m'\u001b[39m\u001b[38;5;124mwin ~ kills + assists + deaths + champExperience + turretTakedowns + turretsLost + timePlayed\u001b[39m\u001b[38;5;124m'\u001b[39m, data \u001b[38;5;241m=\u001b[39m \u001b[43mtrain_normalized\u001b[49m)\u001b[38;5;241m.\u001b[39mfit()\n\u001b[0;32m      2\u001b[0m model_middle\u001b[38;5;241m.\u001b[39msummary()\n",
      "\u001b[1;31mNameError\u001b[0m: name 'train_normalized' is not defined"
     ]
    }
   ],
   "source": [
    "model_middle = smf.logit(formula = 'win ~ kills + assists + deaths + champExperience + turretTakedowns + turretsLost + timePlayed', data = train_normalized).fit()\n",
    "model_middle.summary()"
   ]
  },
  {
   "cell_type": "code",
   "execution_count": 4,
   "id": "7d55bb7e",
   "metadata": {},
   "outputs": [
    {
     "ename": "NameError",
     "evalue": "name 'model_middle' is not defined",
     "output_type": "error",
     "traceback": [
      "\u001b[1;31m---------------------------------------------------------------------------\u001b[0m",
      "\u001b[1;31mNameError\u001b[0m                                 Traceback (most recent call last)",
      "Cell \u001b[1;32mIn[4], line 1\u001b[0m\n\u001b[1;32m----> 1\u001b[0m model_middle_prediction \u001b[38;5;241m=\u001b[39m \u001b[43mmodel_middle\u001b[49m\u001b[38;5;241m.\u001b[39mpredict(test_normalizd) \u001b[38;5;241m>\u001b[39m \u001b[38;5;241m0.5\u001b[39m\n\u001b[0;32m      2\u001b[0m accuracy_middle \u001b[38;5;241m=\u001b[39m accuracy_score(model_middle_prediction, y_test)\n\u001b[0;32m      3\u001b[0m accuracy_middle\n",
      "\u001b[1;31mNameError\u001b[0m: name 'model_middle' is not defined"
     ]
    }
   ],
   "source": [
    "model_middle_prediction = model_middle.predict(test_normalizd) > 0.5\n",
    "accuracy_middle = accuracy_score(model_middle_prediction, y_test)\n",
    "accuracy_middle"
   ]
  },
  {
   "cell_type": "code",
   "execution_count": 5,
   "id": "45af3cc1",
   "metadata": {},
   "outputs": [
    {
     "ename": "NameError",
     "evalue": "name 'y_test' is not defined",
     "output_type": "error",
     "traceback": [
      "\u001b[1;31m---------------------------------------------------------------------------\u001b[0m",
      "\u001b[1;31mNameError\u001b[0m                                 Traceback (most recent call last)",
      "Cell \u001b[1;32mIn[5], line 1\u001b[0m\n\u001b[1;32m----> 1\u001b[0m cm_middle \u001b[38;5;241m=\u001b[39m confusion_matrix(\u001b[43my_test\u001b[49m, model_middle_prediction)\n\u001b[0;32m      3\u001b[0m sns\u001b[38;5;241m.\u001b[39mheatmap(cm_middle, annot\u001b[38;5;241m=\u001b[39m\u001b[38;5;28;01mTrue\u001b[39;00m, fmt\u001b[38;5;241m=\u001b[39m\u001b[38;5;124m\"\u001b[39m\u001b[38;5;124md\u001b[39m\u001b[38;5;124m\"\u001b[39m)\n\u001b[0;32m      4\u001b[0m plt\u001b[38;5;241m.\u001b[39mylabel(\u001b[38;5;124m'\u001b[39m\u001b[38;5;124mReal value\u001b[39m\u001b[38;5;124m'\u001b[39m)\n",
      "\u001b[1;31mNameError\u001b[0m: name 'y_test' is not defined"
     ]
    }
   ],
   "source": [
    "cm_middle = confusion_matrix(y_test, model_middle_prediction)\n",
    "\n",
    "sns.heatmap(cm_middle, annot=True, fmt=\"d\")\n",
    "plt.ylabel('Real value')\n",
    "plt.xlabel('Predicted value')\n",
    "plt.show()"
   ]
  },
  {
   "cell_type": "code",
   "execution_count": 6,
   "id": "adc8a3c2",
   "metadata": {},
   "outputs": [
    {
     "ename": "NameError",
     "evalue": "name 'model_data_top' is not defined",
     "output_type": "error",
     "traceback": [
      "\u001b[1;31m---------------------------------------------------------------------------\u001b[0m",
      "\u001b[1;31mNameError\u001b[0m                                 Traceback (most recent call last)",
      "Cell \u001b[1;32mIn[6], line 2\u001b[0m\n\u001b[0;32m      1\u001b[0m \u001b[38;5;66;03m# model top\u001b[39;00m\n\u001b[1;32m----> 2\u001b[0m X_train, X_test, y_train, y_test \u001b[38;5;241m=\u001b[39m train_test_split(\u001b[43mmodel_data_top\u001b[49m\u001b[38;5;241m.\u001b[39mdrop(\u001b[38;5;124m'\u001b[39m\u001b[38;5;124mwin\u001b[39m\u001b[38;5;124m'\u001b[39m, axis \u001b[38;5;241m=\u001b[39m \u001b[38;5;241m1\u001b[39m), model_data_top[\u001b[38;5;124m'\u001b[39m\u001b[38;5;124mwin\u001b[39m\u001b[38;5;124m'\u001b[39m], test_size\u001b[38;5;241m=\u001b[39m\u001b[38;5;241m0.3\u001b[39m, random_state\u001b[38;5;241m=\u001b[39m\u001b[38;5;241m123\u001b[39m)\n\u001b[0;32m      3\u001b[0m train \u001b[38;5;241m=\u001b[39m X_train\u001b[38;5;241m.\u001b[39mjoin(y_train)\n\u001b[0;32m      4\u001b[0m test \u001b[38;5;241m=\u001b[39m X_test\u001b[38;5;241m.\u001b[39mjoin(y_test)\n",
      "\u001b[1;31mNameError\u001b[0m: name 'model_data_top' is not defined"
     ]
    }
   ],
   "source": [
    "# model top\n",
    "X_train, X_test, y_train, y_test = train_test_split(model_data_top.drop('win', axis = 1), model_data_top['win'], test_size=0.3, random_state=123)\n",
    "train = X_train.join(y_train)\n",
    "test = X_test.join(y_test)\n",
    "\n",
    "train.drop('lane', axis = 1, inplace = True)\n",
    "test.drop('lane', axis = 1, inplace = True)\n",
    "\n",
    "scaler = MinMaxScaler()\n",
    "train_normalized = pd.DataFrame(scaler.fit_transform(train), columns = train.columns)\n",
    "test_normalizd = pd.DataFrame(scaler.fit_transform(test), columns = test.columns)\n",
    "\n",
    "model_top = smf.logit(formula = 'win ~ kills + assists + deaths + champExperience + dragonKills + baronKills + goldEarned + totalDamageDealtToChampions + totalHeal + totalMinionsKilled + turretTakedowns + turretsLost + visionScore + timePlayed', data = train_normalized).fit()\n",
    "model_top.summary()"
   ]
  },
  {
   "cell_type": "code",
   "execution_count": 7,
   "id": "3cff1449",
   "metadata": {},
   "outputs": [
    {
     "ename": "NameError",
     "evalue": "name 'train_normalized' is not defined",
     "output_type": "error",
     "traceback": [
      "\u001b[1;31m---------------------------------------------------------------------------\u001b[0m",
      "\u001b[1;31mNameError\u001b[0m                                 Traceback (most recent call last)",
      "Cell \u001b[1;32mIn[7], line 1\u001b[0m\n\u001b[1;32m----> 1\u001b[0m model_top \u001b[38;5;241m=\u001b[39m smf\u001b[38;5;241m.\u001b[39mlogit(formula \u001b[38;5;241m=\u001b[39m \u001b[38;5;124m'\u001b[39m\u001b[38;5;124mwin ~ kills + assists + deaths + champExperience + dragonKills + baronKills + goldEarned + totalDamageDealtToChampions + totalHeal + totalMinionsKilled + turretTakedowns + turretsLost + timePlayed\u001b[39m\u001b[38;5;124m'\u001b[39m, data \u001b[38;5;241m=\u001b[39m \u001b[43mtrain_normalized\u001b[49m)\u001b[38;5;241m.\u001b[39mfit()\n\u001b[0;32m      2\u001b[0m model_top\u001b[38;5;241m.\u001b[39msummary()\n",
      "\u001b[1;31mNameError\u001b[0m: name 'train_normalized' is not defined"
     ]
    }
   ],
   "source": [
    "model_top = smf.logit(formula = 'win ~ kills + assists + deaths + champExperience + dragonKills + baronKills + goldEarned + totalDamageDealtToChampions + totalHeal + totalMinionsKilled + turretTakedowns + turretsLost + timePlayed', data = train_normalized).fit()\n",
    "model_top.summary()"
   ]
  },
  {
   "cell_type": "code",
   "execution_count": 8,
   "id": "d068fc17",
   "metadata": {},
   "outputs": [
    {
     "ename": "NameError",
     "evalue": "name 'train_normalized' is not defined",
     "output_type": "error",
     "traceback": [
      "\u001b[1;31m---------------------------------------------------------------------------\u001b[0m",
      "\u001b[1;31mNameError\u001b[0m                                 Traceback (most recent call last)",
      "Cell \u001b[1;32mIn[8], line 1\u001b[0m\n\u001b[1;32m----> 1\u001b[0m model_top \u001b[38;5;241m=\u001b[39m smf\u001b[38;5;241m.\u001b[39mlogit(formula \u001b[38;5;241m=\u001b[39m \u001b[38;5;124m'\u001b[39m\u001b[38;5;124mwin ~ kills + assists + deaths + champExperience + dragonKills + goldEarned + totalDamageDealtToChampions + totalHeal + totalMinionsKilled + turretTakedowns + turretsLost + timePlayed\u001b[39m\u001b[38;5;124m'\u001b[39m, data \u001b[38;5;241m=\u001b[39m \u001b[43mtrain_normalized\u001b[49m)\u001b[38;5;241m.\u001b[39mfit()\n\u001b[0;32m      2\u001b[0m model_top\u001b[38;5;241m.\u001b[39msummary()\n",
      "\u001b[1;31mNameError\u001b[0m: name 'train_normalized' is not defined"
     ]
    }
   ],
   "source": [
    "model_top = smf.logit(formula = 'win ~ kills + assists + deaths + champExperience + dragonKills + goldEarned + totalDamageDealtToChampions + totalHeal + totalMinionsKilled + turretTakedowns + turretsLost + timePlayed', data = train_normalized).fit()\n",
    "model_top.summary()"
   ]
  },
  {
   "cell_type": "code",
   "execution_count": 9,
   "id": "0f8b363e",
   "metadata": {},
   "outputs": [
    {
     "ename": "NameError",
     "evalue": "name 'train_normalized' is not defined",
     "output_type": "error",
     "traceback": [
      "\u001b[1;31m---------------------------------------------------------------------------\u001b[0m",
      "\u001b[1;31mNameError\u001b[0m                                 Traceback (most recent call last)",
      "Cell \u001b[1;32mIn[9], line 1\u001b[0m\n\u001b[1;32m----> 1\u001b[0m model_top \u001b[38;5;241m=\u001b[39m smf\u001b[38;5;241m.\u001b[39mlogit(formula \u001b[38;5;241m=\u001b[39m \u001b[38;5;124m'\u001b[39m\u001b[38;5;124mwin ~ kills + assists + deaths + dragonKills + goldEarned + totalDamageDealtToChampions + totalHeal + totalMinionsKilled + turretTakedowns + turretsLost + timePlayed\u001b[39m\u001b[38;5;124m'\u001b[39m, data \u001b[38;5;241m=\u001b[39m \u001b[43mtrain_normalized\u001b[49m)\u001b[38;5;241m.\u001b[39mfit()\n\u001b[0;32m      2\u001b[0m model_top\u001b[38;5;241m.\u001b[39msummary()\n",
      "\u001b[1;31mNameError\u001b[0m: name 'train_normalized' is not defined"
     ]
    }
   ],
   "source": [
    "model_top = smf.logit(formula = 'win ~ kills + assists + deaths + dragonKills + goldEarned + totalDamageDealtToChampions + totalHeal + totalMinionsKilled + turretTakedowns + turretsLost + timePlayed', data = train_normalized).fit()\n",
    "model_top.summary()"
   ]
  },
  {
   "cell_type": "code",
   "execution_count": 10,
   "id": "407af06a",
   "metadata": {},
   "outputs": [
    {
     "ename": "NameError",
     "evalue": "name 'train_normalized' is not defined",
     "output_type": "error",
     "traceback": [
      "\u001b[1;31m---------------------------------------------------------------------------\u001b[0m",
      "\u001b[1;31mNameError\u001b[0m                                 Traceback (most recent call last)",
      "Cell \u001b[1;32mIn[10], line 1\u001b[0m\n\u001b[1;32m----> 1\u001b[0m model_top \u001b[38;5;241m=\u001b[39m smf\u001b[38;5;241m.\u001b[39mlogit(formula \u001b[38;5;241m=\u001b[39m \u001b[38;5;124m'\u001b[39m\u001b[38;5;124mwin ~ kills + assists + deaths + goldEarned + totalDamageDealtToChampions + totalHeal + totalMinionsKilled + turretTakedowns + turretsLost + timePlayed\u001b[39m\u001b[38;5;124m'\u001b[39m, data \u001b[38;5;241m=\u001b[39m \u001b[43mtrain_normalized\u001b[49m)\u001b[38;5;241m.\u001b[39mfit()\n\u001b[0;32m      2\u001b[0m model_top\u001b[38;5;241m.\u001b[39msummary()\n",
      "\u001b[1;31mNameError\u001b[0m: name 'train_normalized' is not defined"
     ]
    }
   ],
   "source": [
    "model_top = smf.logit(formula = 'win ~ kills + assists + deaths + goldEarned + totalDamageDealtToChampions + totalHeal + totalMinionsKilled + turretTakedowns + turretsLost + timePlayed', data = train_normalized).fit()\n",
    "model_top.summary()"
   ]
  },
  {
   "cell_type": "code",
   "execution_count": 11,
   "id": "2d2e21d5",
   "metadata": {},
   "outputs": [
    {
     "ename": "NameError",
     "evalue": "name 'train_normalized' is not defined",
     "output_type": "error",
     "traceback": [
      "\u001b[1;31m---------------------------------------------------------------------------\u001b[0m",
      "\u001b[1;31mNameError\u001b[0m                                 Traceback (most recent call last)",
      "Cell \u001b[1;32mIn[11], line 1\u001b[0m\n\u001b[1;32m----> 1\u001b[0m model_top \u001b[38;5;241m=\u001b[39m smf\u001b[38;5;241m.\u001b[39mlogit(formula \u001b[38;5;241m=\u001b[39m \u001b[38;5;124m'\u001b[39m\u001b[38;5;124mwin ~ kills + assists + deaths + goldEarned + totalHeal + totalMinionsKilled + turretTakedowns + turretsLost + timePlayed\u001b[39m\u001b[38;5;124m'\u001b[39m, data \u001b[38;5;241m=\u001b[39m \u001b[43mtrain_normalized\u001b[49m)\u001b[38;5;241m.\u001b[39mfit()\n\u001b[0;32m      2\u001b[0m model_top\u001b[38;5;241m.\u001b[39msummary()\n",
      "\u001b[1;31mNameError\u001b[0m: name 'train_normalized' is not defined"
     ]
    }
   ],
   "source": [
    "model_top = smf.logit(formula = 'win ~ kills + assists + deaths + goldEarned + totalHeal + totalMinionsKilled + turretTakedowns + turretsLost + timePlayed', data = train_normalized).fit()\n",
    "model_top.summary()"
   ]
  },
  {
   "cell_type": "code",
   "execution_count": 12,
   "id": "b2dde3d1",
   "metadata": {},
   "outputs": [
    {
     "ename": "NameError",
     "evalue": "name 'train_normalized' is not defined",
     "output_type": "error",
     "traceback": [
      "\u001b[1;31m---------------------------------------------------------------------------\u001b[0m",
      "\u001b[1;31mNameError\u001b[0m                                 Traceback (most recent call last)",
      "Cell \u001b[1;32mIn[12], line 1\u001b[0m\n\u001b[1;32m----> 1\u001b[0m model_top \u001b[38;5;241m=\u001b[39m smf\u001b[38;5;241m.\u001b[39mlogit(formula \u001b[38;5;241m=\u001b[39m \u001b[38;5;124m'\u001b[39m\u001b[38;5;124mwin ~ kills + assists + deaths + goldEarned + totalMinionsKilled + turretTakedowns + turretsLost + timePlayed\u001b[39m\u001b[38;5;124m'\u001b[39m, data \u001b[38;5;241m=\u001b[39m \u001b[43mtrain_normalized\u001b[49m)\u001b[38;5;241m.\u001b[39mfit()\n\u001b[0;32m      2\u001b[0m model_top\u001b[38;5;241m.\u001b[39msummary()\n",
      "\u001b[1;31mNameError\u001b[0m: name 'train_normalized' is not defined"
     ]
    }
   ],
   "source": [
    "model_top = smf.logit(formula = 'win ~ kills + assists + deaths + goldEarned + totalMinionsKilled + turretTakedowns + turretsLost + timePlayed', data = train_normalized).fit()\n",
    "model_top.summary()"
   ]
  },
  {
   "cell_type": "code",
   "execution_count": 13,
   "id": "c8e1d529",
   "metadata": {},
   "outputs": [
    {
     "ename": "NameError",
     "evalue": "name 'train_normalized' is not defined",
     "output_type": "error",
     "traceback": [
      "\u001b[1;31m---------------------------------------------------------------------------\u001b[0m",
      "\u001b[1;31mNameError\u001b[0m                                 Traceback (most recent call last)",
      "Cell \u001b[1;32mIn[13], line 1\u001b[0m\n\u001b[1;32m----> 1\u001b[0m model_top \u001b[38;5;241m=\u001b[39m smf\u001b[38;5;241m.\u001b[39mlogit(formula \u001b[38;5;241m=\u001b[39m \u001b[38;5;124m'\u001b[39m\u001b[38;5;124mwin ~ kills + assists + goldEarned + totalMinionsKilled + turretTakedowns + turretsLost + timePlayed\u001b[39m\u001b[38;5;124m'\u001b[39m, data \u001b[38;5;241m=\u001b[39m \u001b[43mtrain_normalized\u001b[49m)\u001b[38;5;241m.\u001b[39mfit()\n\u001b[0;32m      2\u001b[0m model_top\u001b[38;5;241m.\u001b[39msummary()\n",
      "\u001b[1;31mNameError\u001b[0m: name 'train_normalized' is not defined"
     ]
    }
   ],
   "source": [
    "model_top = smf.logit(formula = 'win ~ kills + assists + goldEarned + totalMinionsKilled + turretTakedowns + turretsLost + timePlayed', data = train_normalized).fit()\n",
    "model_top.summary()"
   ]
  },
  {
   "cell_type": "code",
   "execution_count": 14,
   "id": "80294705",
   "metadata": {},
   "outputs": [
    {
     "ename": "NameError",
     "evalue": "name 'model_top' is not defined",
     "output_type": "error",
     "traceback": [
      "\u001b[1;31m---------------------------------------------------------------------------\u001b[0m",
      "\u001b[1;31mNameError\u001b[0m                                 Traceback (most recent call last)",
      "Cell \u001b[1;32mIn[14], line 1\u001b[0m\n\u001b[1;32m----> 1\u001b[0m model_top_prediction \u001b[38;5;241m=\u001b[39m \u001b[43mmodel_top\u001b[49m\u001b[38;5;241m.\u001b[39mpredict(test_normalizd) \u001b[38;5;241m>\u001b[39m \u001b[38;5;241m0.5\u001b[39m\n\u001b[0;32m      2\u001b[0m accuracy_top \u001b[38;5;241m=\u001b[39m accuracy_score(model_top_prediction, y_test)\n\u001b[0;32m      3\u001b[0m accuracy_top\n",
      "\u001b[1;31mNameError\u001b[0m: name 'model_top' is not defined"
     ]
    }
   ],
   "source": [
    "model_top_prediction = model_top.predict(test_normalizd) > 0.5\n",
    "accuracy_top = accuracy_score(model_top_prediction, y_test)\n",
    "accuracy_top"
   ]
  },
  {
   "cell_type": "code",
   "execution_count": 15,
   "id": "9b107147",
   "metadata": {},
   "outputs": [
    {
     "ename": "NameError",
     "evalue": "name 'y_test' is not defined",
     "output_type": "error",
     "traceback": [
      "\u001b[1;31m---------------------------------------------------------------------------\u001b[0m",
      "\u001b[1;31mNameError\u001b[0m                                 Traceback (most recent call last)",
      "Cell \u001b[1;32mIn[15], line 1\u001b[0m\n\u001b[1;32m----> 1\u001b[0m cm_top \u001b[38;5;241m=\u001b[39m confusion_matrix(\u001b[43my_test\u001b[49m, model_top_prediction)\n\u001b[0;32m      3\u001b[0m sns\u001b[38;5;241m.\u001b[39mheatmap(cm_top, annot\u001b[38;5;241m=\u001b[39m\u001b[38;5;28;01mTrue\u001b[39;00m, fmt\u001b[38;5;241m=\u001b[39m\u001b[38;5;124m\"\u001b[39m\u001b[38;5;124md\u001b[39m\u001b[38;5;124m\"\u001b[39m)\n\u001b[0;32m      4\u001b[0m plt\u001b[38;5;241m.\u001b[39mylabel(\u001b[38;5;124m'\u001b[39m\u001b[38;5;124mReal value\u001b[39m\u001b[38;5;124m'\u001b[39m)\n",
      "\u001b[1;31mNameError\u001b[0m: name 'y_test' is not defined"
     ]
    }
   ],
   "source": [
    "cm_top = confusion_matrix(y_test, model_top_prediction)\n",
    "\n",
    "sns.heatmap(cm_top, annot=True, fmt=\"d\")\n",
    "plt.ylabel('Real value')\n",
    "plt.xlabel('Predicted value')\n",
    "plt.show()"
   ]
  },
  {
   "cell_type": "code",
   "execution_count": 16,
   "id": "9315f00c",
   "metadata": {},
   "outputs": [
    {
     "ename": "NameError",
     "evalue": "name 'model_data_jungle' is not defined",
     "output_type": "error",
     "traceback": [
      "\u001b[1;31m---------------------------------------------------------------------------\u001b[0m",
      "\u001b[1;31mNameError\u001b[0m                                 Traceback (most recent call last)",
      "Cell \u001b[1;32mIn[16], line 2\u001b[0m\n\u001b[0;32m      1\u001b[0m \u001b[38;5;66;03m# model jungle\u001b[39;00m\n\u001b[1;32m----> 2\u001b[0m X_train, X_test, y_train, y_test \u001b[38;5;241m=\u001b[39m train_test_split(\u001b[43mmodel_data_jungle\u001b[49m\u001b[38;5;241m.\u001b[39mdrop(\u001b[38;5;124m'\u001b[39m\u001b[38;5;124mwin\u001b[39m\u001b[38;5;124m'\u001b[39m, axis \u001b[38;5;241m=\u001b[39m \u001b[38;5;241m1\u001b[39m), model_data_jungle[\u001b[38;5;124m'\u001b[39m\u001b[38;5;124mwin\u001b[39m\u001b[38;5;124m'\u001b[39m], test_size\u001b[38;5;241m=\u001b[39m\u001b[38;5;241m0.3\u001b[39m, random_state\u001b[38;5;241m=\u001b[39m\u001b[38;5;241m123\u001b[39m)\n\u001b[0;32m      3\u001b[0m train \u001b[38;5;241m=\u001b[39m X_train\u001b[38;5;241m.\u001b[39mjoin(y_train)\n\u001b[0;32m      4\u001b[0m test \u001b[38;5;241m=\u001b[39m X_test\u001b[38;5;241m.\u001b[39mjoin(y_test)\n",
      "\u001b[1;31mNameError\u001b[0m: name 'model_data_jungle' is not defined"
     ]
    }
   ],
   "source": [
    "# model jungle\n",
    "X_train, X_test, y_train, y_test = train_test_split(model_data_jungle.drop('win', axis = 1), model_data_jungle['win'], test_size=0.3, random_state=123)\n",
    "train = X_train.join(y_train)\n",
    "test = X_test.join(y_test)\n",
    "\n",
    "train.drop('lane', axis = 1, inplace = True)\n",
    "test.drop('lane', axis = 1, inplace = True)\n",
    "\n",
    "scaler = MinMaxScaler()\n",
    "train_normalized = pd.DataFrame(scaler.fit_transform(train), columns = train.columns)\n",
    "test_normalizd = pd.DataFrame(scaler.fit_transform(test), columns = test.columns)\n",
    "\n",
    "model_jungle = smf.logit(formula = 'win ~ kills + assists + deaths + champExperience + dragonKills + baronKills + goldEarned + totalDamageDealtToChampions + totalHeal + totalMinionsKilled + turretTakedowns + turretsLost + visionScore + timePlayed', data = train_normalized).fit()\n",
    "model_jungle.summary()"
   ]
  },
  {
   "cell_type": "code",
   "execution_count": 17,
   "id": "30a9d07b",
   "metadata": {},
   "outputs": [
    {
     "ename": "NameError",
     "evalue": "name 'train_normalized' is not defined",
     "output_type": "error",
     "traceback": [
      "\u001b[1;31m---------------------------------------------------------------------------\u001b[0m",
      "\u001b[1;31mNameError\u001b[0m                                 Traceback (most recent call last)",
      "Cell \u001b[1;32mIn[17], line 1\u001b[0m\n\u001b[1;32m----> 1\u001b[0m model_jungle \u001b[38;5;241m=\u001b[39m smf\u001b[38;5;241m.\u001b[39mlogit(formula \u001b[38;5;241m=\u001b[39m \u001b[38;5;124m'\u001b[39m\u001b[38;5;124mwin ~ kills + assists + deaths + dragonKills + baronKills + goldEarned + totalDamageDealtToChampions + totalHeal + totalMinionsKilled + turretTakedowns + turretsLost + visionScore + timePlayed\u001b[39m\u001b[38;5;124m'\u001b[39m, data \u001b[38;5;241m=\u001b[39m \u001b[43mtrain_normalized\u001b[49m)\u001b[38;5;241m.\u001b[39mfit()\n\u001b[0;32m      2\u001b[0m model_jungle\u001b[38;5;241m.\u001b[39msummary()\n",
      "\u001b[1;31mNameError\u001b[0m: name 'train_normalized' is not defined"
     ]
    }
   ],
   "source": [
    "model_jungle = smf.logit(formula = 'win ~ kills + assists + deaths + dragonKills + baronKills + goldEarned + totalDamageDealtToChampions + totalHeal + totalMinionsKilled + turretTakedowns + turretsLost + visionScore + timePlayed', data = train_normalized).fit()\n",
    "model_jungle.summary()"
   ]
  },
  {
   "cell_type": "code",
   "execution_count": 18,
   "id": "c7c05047",
   "metadata": {},
   "outputs": [
    {
     "ename": "NameError",
     "evalue": "name 'train_normalized' is not defined",
     "output_type": "error",
     "traceback": [
      "\u001b[1;31m---------------------------------------------------------------------------\u001b[0m",
      "\u001b[1;31mNameError\u001b[0m                                 Traceback (most recent call last)",
      "Cell \u001b[1;32mIn[18], line 1\u001b[0m\n\u001b[1;32m----> 1\u001b[0m model_jungle \u001b[38;5;241m=\u001b[39m smf\u001b[38;5;241m.\u001b[39mlogit(formula \u001b[38;5;241m=\u001b[39m \u001b[38;5;124m'\u001b[39m\u001b[38;5;124mwin ~ kills + assists + deaths + dragonKills + baronKills + goldEarned + totalDamageDealtToChampions + totalHeal + turretTakedowns + turretsLost + visionScore + timePlayed\u001b[39m\u001b[38;5;124m'\u001b[39m, data \u001b[38;5;241m=\u001b[39m \u001b[43mtrain_normalized\u001b[49m)\u001b[38;5;241m.\u001b[39mfit()\n\u001b[0;32m      2\u001b[0m model_jungle\u001b[38;5;241m.\u001b[39msummary()\n",
      "\u001b[1;31mNameError\u001b[0m: name 'train_normalized' is not defined"
     ]
    }
   ],
   "source": [
    "model_jungle = smf.logit(formula = 'win ~ kills + assists + deaths + dragonKills + baronKills + goldEarned + totalDamageDealtToChampions + totalHeal + turretTakedowns + turretsLost + visionScore + timePlayed', data = train_normalized).fit()\n",
    "model_jungle.summary()"
   ]
  },
  {
   "cell_type": "code",
   "execution_count": 19,
   "id": "c9b10748",
   "metadata": {},
   "outputs": [
    {
     "ename": "NameError",
     "evalue": "name 'train_normalized' is not defined",
     "output_type": "error",
     "traceback": [
      "\u001b[1;31m---------------------------------------------------------------------------\u001b[0m",
      "\u001b[1;31mNameError\u001b[0m                                 Traceback (most recent call last)",
      "Cell \u001b[1;32mIn[19], line 1\u001b[0m\n\u001b[1;32m----> 1\u001b[0m model_jungle \u001b[38;5;241m=\u001b[39m smf\u001b[38;5;241m.\u001b[39mlogit(formula \u001b[38;5;241m=\u001b[39m \u001b[38;5;124m'\u001b[39m\u001b[38;5;124mwin ~ kills + assists + deaths + dragonKills + baronKills + goldEarned + totalHeal + turretTakedowns + turretsLost + visionScore + timePlayed\u001b[39m\u001b[38;5;124m'\u001b[39m, data \u001b[38;5;241m=\u001b[39m \u001b[43mtrain_normalized\u001b[49m)\u001b[38;5;241m.\u001b[39mfit()\n\u001b[0;32m      2\u001b[0m model_jungle\u001b[38;5;241m.\u001b[39msummary()\n",
      "\u001b[1;31mNameError\u001b[0m: name 'train_normalized' is not defined"
     ]
    }
   ],
   "source": [
    "model_jungle = smf.logit(formula = 'win ~ kills + assists + deaths + dragonKills + baronKills + goldEarned + totalHeal + turretTakedowns + turretsLost + visionScore + timePlayed', data = train_normalized).fit()\n",
    "model_jungle.summary()"
   ]
  },
  {
   "cell_type": "code",
   "execution_count": 20,
   "id": "067e158c",
   "metadata": {},
   "outputs": [
    {
     "ename": "NameError",
     "evalue": "name 'train_normalized' is not defined",
     "output_type": "error",
     "traceback": [
      "\u001b[1;31m---------------------------------------------------------------------------\u001b[0m",
      "\u001b[1;31mNameError\u001b[0m                                 Traceback (most recent call last)",
      "Cell \u001b[1;32mIn[20], line 1\u001b[0m\n\u001b[1;32m----> 1\u001b[0m model_jungle \u001b[38;5;241m=\u001b[39m smf\u001b[38;5;241m.\u001b[39mlogit(formula \u001b[38;5;241m=\u001b[39m \u001b[38;5;124m'\u001b[39m\u001b[38;5;124mwin ~ kills + assists + dragonKills + baronKills + goldEarned + totalHeal + turretTakedowns + turretsLost + visionScore + timePlayed\u001b[39m\u001b[38;5;124m'\u001b[39m, data \u001b[38;5;241m=\u001b[39m \u001b[43mtrain_normalized\u001b[49m)\u001b[38;5;241m.\u001b[39mfit()\n\u001b[0;32m      2\u001b[0m model_jungle\u001b[38;5;241m.\u001b[39msummary()\n",
      "\u001b[1;31mNameError\u001b[0m: name 'train_normalized' is not defined"
     ]
    }
   ],
   "source": [
    "model_jungle = smf.logit(formula = 'win ~ kills + assists + dragonKills + baronKills + goldEarned + totalHeal + turretTakedowns + turretsLost + visionScore + timePlayed', data = train_normalized).fit()\n",
    "model_jungle.summary()"
   ]
  },
  {
   "cell_type": "code",
   "execution_count": 21,
   "id": "3e936bcf",
   "metadata": {},
   "outputs": [
    {
     "ename": "NameError",
     "evalue": "name 'train_normalized' is not defined",
     "output_type": "error",
     "traceback": [
      "\u001b[1;31m---------------------------------------------------------------------------\u001b[0m",
      "\u001b[1;31mNameError\u001b[0m                                 Traceback (most recent call last)",
      "Cell \u001b[1;32mIn[21], line 1\u001b[0m\n\u001b[1;32m----> 1\u001b[0m model_jungle \u001b[38;5;241m=\u001b[39m smf\u001b[38;5;241m.\u001b[39mlogit(formula \u001b[38;5;241m=\u001b[39m \u001b[38;5;124m'\u001b[39m\u001b[38;5;124mwin ~ kills + assists + dragonKills + baronKills + goldEarned + turretTakedowns + turretsLost + visionScore + timePlayed\u001b[39m\u001b[38;5;124m'\u001b[39m, data \u001b[38;5;241m=\u001b[39m \u001b[43mtrain_normalized\u001b[49m)\u001b[38;5;241m.\u001b[39mfit()\n\u001b[0;32m      2\u001b[0m model_jungle\u001b[38;5;241m.\u001b[39msummary()\n",
      "\u001b[1;31mNameError\u001b[0m: name 'train_normalized' is not defined"
     ]
    }
   ],
   "source": [
    "model_jungle = smf.logit(formula = 'win ~ kills + assists + dragonKills + baronKills + goldEarned + turretTakedowns + turretsLost + visionScore + timePlayed', data = train_normalized).fit()\n",
    "model_jungle.summary()"
   ]
  },
  {
   "cell_type": "code",
   "execution_count": 22,
   "id": "c0113e8a",
   "metadata": {},
   "outputs": [
    {
     "ename": "NameError",
     "evalue": "name 'train_normalized' is not defined",
     "output_type": "error",
     "traceback": [
      "\u001b[1;31m---------------------------------------------------------------------------\u001b[0m",
      "\u001b[1;31mNameError\u001b[0m                                 Traceback (most recent call last)",
      "Cell \u001b[1;32mIn[22], line 1\u001b[0m\n\u001b[1;32m----> 1\u001b[0m model_jungle \u001b[38;5;241m=\u001b[39m smf\u001b[38;5;241m.\u001b[39mlogit(formula \u001b[38;5;241m=\u001b[39m \u001b[38;5;124m'\u001b[39m\u001b[38;5;124mwin ~ kills + assists + dragonKills + goldEarned + turretTakedowns + turretsLost + visionScore + timePlayed\u001b[39m\u001b[38;5;124m'\u001b[39m, data \u001b[38;5;241m=\u001b[39m \u001b[43mtrain_normalized\u001b[49m)\u001b[38;5;241m.\u001b[39mfit()\n\u001b[0;32m      2\u001b[0m model_jungle\u001b[38;5;241m.\u001b[39msummary()\n",
      "\u001b[1;31mNameError\u001b[0m: name 'train_normalized' is not defined"
     ]
    }
   ],
   "source": [
    "model_jungle = smf.logit(formula = 'win ~ kills + assists + dragonKills + goldEarned + turretTakedowns + turretsLost + visionScore + timePlayed', data = train_normalized).fit()\n",
    "model_jungle.summary()"
   ]
  },
  {
   "cell_type": "code",
   "execution_count": 23,
   "id": "395bb60e",
   "metadata": {},
   "outputs": [
    {
     "ename": "NameError",
     "evalue": "name 'model_jungle' is not defined",
     "output_type": "error",
     "traceback": [
      "\u001b[1;31m---------------------------------------------------------------------------\u001b[0m",
      "\u001b[1;31mNameError\u001b[0m                                 Traceback (most recent call last)",
      "Cell \u001b[1;32mIn[23], line 1\u001b[0m\n\u001b[1;32m----> 1\u001b[0m model_jungle_prediction \u001b[38;5;241m=\u001b[39m \u001b[43mmodel_jungle\u001b[49m\u001b[38;5;241m.\u001b[39mpredict(test_normalizd) \u001b[38;5;241m>\u001b[39m \u001b[38;5;241m0.5\u001b[39m\n\u001b[0;32m      2\u001b[0m accuracy_jungle \u001b[38;5;241m=\u001b[39m accuracy_score(model_jungle_prediction, y_test)\n\u001b[0;32m      3\u001b[0m accuracy_jungle\n",
      "\u001b[1;31mNameError\u001b[0m: name 'model_jungle' is not defined"
     ]
    }
   ],
   "source": [
    "model_jungle_prediction = model_jungle.predict(test_normalizd) > 0.5\n",
    "accuracy_jungle = accuracy_score(model_jungle_prediction, y_test)\n",
    "accuracy_jungle"
   ]
  },
  {
   "cell_type": "code",
   "execution_count": 24,
   "id": "afd7b08f",
   "metadata": {},
   "outputs": [
    {
     "ename": "NameError",
     "evalue": "name 'y_test' is not defined",
     "output_type": "error",
     "traceback": [
      "\u001b[1;31m---------------------------------------------------------------------------\u001b[0m",
      "\u001b[1;31mNameError\u001b[0m                                 Traceback (most recent call last)",
      "Cell \u001b[1;32mIn[24], line 1\u001b[0m\n\u001b[1;32m----> 1\u001b[0m cm_jungle \u001b[38;5;241m=\u001b[39m confusion_matrix(\u001b[43my_test\u001b[49m, model_jungle_prediction)\n\u001b[0;32m      3\u001b[0m sns\u001b[38;5;241m.\u001b[39mheatmap(cm_jungle, annot\u001b[38;5;241m=\u001b[39m\u001b[38;5;28;01mTrue\u001b[39;00m, fmt\u001b[38;5;241m=\u001b[39m\u001b[38;5;124m\"\u001b[39m\u001b[38;5;124md\u001b[39m\u001b[38;5;124m\"\u001b[39m)\n\u001b[0;32m      4\u001b[0m plt\u001b[38;5;241m.\u001b[39mylabel(\u001b[38;5;124m'\u001b[39m\u001b[38;5;124mReal value\u001b[39m\u001b[38;5;124m'\u001b[39m)\n",
      "\u001b[1;31mNameError\u001b[0m: name 'y_test' is not defined"
     ]
    }
   ],
   "source": [
    "cm_jungle = confusion_matrix(y_test, model_jungle_prediction)\n",
    "\n",
    "sns.heatmap(cm_jungle, annot=True, fmt=\"d\")\n",
    "plt.ylabel('Real value')\n",
    "plt.xlabel('Predicted value')\n",
    "plt.show()"
   ]
  },
  {
   "cell_type": "markdown",
   "id": "63e62434",
   "metadata": {},
   "source": [
    "### Podsumowanie modeli"
   ]
  },
  {
   "cell_type": "code",
   "execution_count": 25,
   "id": "a5bef025",
   "metadata": {},
   "outputs": [
    {
     "name": "stdout",
     "output_type": "stream",
     "text": [
      "Accuracy score wyestymowanych modeli:\n"
     ]
    },
    {
     "ename": "NameError",
     "evalue": "name 'accuracy_top' is not defined",
     "output_type": "error",
     "traceback": [
      "\u001b[1;31m---------------------------------------------------------------------------\u001b[0m",
      "\u001b[1;31mNameError\u001b[0m                                 Traceback (most recent call last)",
      "Cell \u001b[1;32mIn[25], line 2\u001b[0m\n\u001b[0;32m      1\u001b[0m \u001b[38;5;28mprint\u001b[39m(\u001b[38;5;124m'\u001b[39m\u001b[38;5;124mAccuracy score wyestymowanych modeli:\u001b[39m\u001b[38;5;124m'\u001b[39m)\n\u001b[1;32m----> 2\u001b[0m \u001b[38;5;28mprint\u001b[39m(\u001b[38;5;124mf\u001b[39m\u001b[38;5;124m'\u001b[39m\u001b[38;5;124mAccuracy score - model top: \u001b[39m\u001b[38;5;132;01m{\u001b[39;00m\u001b[38;5;28mround\u001b[39m(accuracy_top,\u001b[38;5;241m4\u001b[39m) \u001b[38;5;241m*\u001b[39m \u001b[38;5;241m100\u001b[39m\u001b[38;5;132;01m}\u001b[39;00m\u001b[38;5;124m%\u001b[39m\u001b[38;5;124m'\u001b[39m)\n\u001b[0;32m      3\u001b[0m \u001b[38;5;28mprint\u001b[39m(\u001b[38;5;124mf\u001b[39m\u001b[38;5;124m'\u001b[39m\u001b[38;5;124mAccuracy score - model middle: \u001b[39m\u001b[38;5;132;01m{\u001b[39;00m\u001b[38;5;28mround\u001b[39m(accuracy_middle,\u001b[38;5;241m4\u001b[39m) \u001b[38;5;241m*\u001b[39m \u001b[38;5;241m100\u001b[39m\u001b[38;5;132;01m}\u001b[39;00m\u001b[38;5;124m%\u001b[39m\u001b[38;5;124m'\u001b[39m)\n\u001b[0;32m      4\u001b[0m \u001b[38;5;28mprint\u001b[39m(\u001b[38;5;124mf\u001b[39m\u001b[38;5;124m'\u001b[39m\u001b[38;5;124mAccuracy score - model bottom: \u001b[39m\u001b[38;5;132;01m{\u001b[39;00m\u001b[38;5;28mround\u001b[39m(accuracy_bottom,\u001b[38;5;241m4\u001b[39m) \u001b[38;5;241m*\u001b[39m \u001b[38;5;241m100\u001b[39m\u001b[38;5;132;01m}\u001b[39;00m\u001b[38;5;124m%\u001b[39m\u001b[38;5;124m'\u001b[39m)\n",
      "\u001b[1;31mNameError\u001b[0m: name 'accuracy_top' is not defined"
     ]
    }
   ],
   "source": [
    "print('Accuracy score wyestymowanych modeli:')\n",
    "print(f'Accuracy score - model top: {round(accuracy_top,4) * 100}%')\n",
    "print(f'Accuracy score - model middle: {round(accuracy_middle,4) * 100}%')\n",
    "print(f'Accuracy score - model bottom: {round(accuracy_bottom,4) * 100}%')\n",
    "print(f'Accuracy score - model jungle: {round(accuracy_jungle,4) * 100}%')"
   ]
  },
  {
   "cell_type": "code",
   "execution_count": 26,
   "id": "6f484ae5",
   "metadata": {},
   "outputs": [
    {
     "ename": "NameError",
     "evalue": "name 'cm_top' is not defined",
     "output_type": "error",
     "traceback": [
      "\u001b[1;31m---------------------------------------------------------------------------\u001b[0m",
      "\u001b[1;31mNameError\u001b[0m                                 Traceback (most recent call last)",
      "Cell \u001b[1;32mIn[26], line 3\u001b[0m\n\u001b[0;32m      1\u001b[0m fig, ax \u001b[38;5;241m=\u001b[39m plt\u001b[38;5;241m.\u001b[39msubplots(\u001b[38;5;241m2\u001b[39m, \u001b[38;5;241m2\u001b[39m)\n\u001b[1;32m----> 3\u001b[0m sns\u001b[38;5;241m.\u001b[39mheatmap(\u001b[43mcm_top\u001b[49m, annot\u001b[38;5;241m=\u001b[39m\u001b[38;5;28;01mTrue\u001b[39;00m, fmt\u001b[38;5;241m=\u001b[39m\u001b[38;5;124m\"\u001b[39m\u001b[38;5;124md\u001b[39m\u001b[38;5;124m\"\u001b[39m, ax\u001b[38;5;241m=\u001b[39max[\u001b[38;5;241m0\u001b[39m,\u001b[38;5;241m0\u001b[39m])\n\u001b[0;32m      4\u001b[0m ax[\u001b[38;5;241m0\u001b[39m,\u001b[38;5;241m0\u001b[39m]\u001b[38;5;241m.\u001b[39mset_xlabel(\u001b[38;5;124m'\u001b[39m\u001b[38;5;124mPredicted values\u001b[39m\u001b[38;5;124m'\u001b[39m)\n\u001b[0;32m      5\u001b[0m ax[\u001b[38;5;241m0\u001b[39m,\u001b[38;5;241m0\u001b[39m]\u001b[38;5;241m.\u001b[39mset_ylabel(\u001b[38;5;124m'\u001b[39m\u001b[38;5;124mReal values\u001b[39m\u001b[38;5;124m'\u001b[39m)\n",
      "\u001b[1;31mNameError\u001b[0m: name 'cm_top' is not defined"
     ]
    },
    {
     "data": {
      "image/png": "[encoded data removed]",
      "text/plain": [
       "<Figure size 1200x600 with 4 Axes>"
      ]
     },
     "metadata": {},
     "output_type": "display_data"
    }
   ],
   "source": [
    "fig, ax = plt.subplots(2, 2)\n",
    "\n",
    "sns.heatmap(cm_top, annot=True, fmt=\"d\", ax=ax[0,0])\n",
    "ax[0,0].set_xlabel('Predicted values')\n",
    "ax[0,0].set_ylabel('Real values')\n",
    "ax[0,0].set_title('TOP')\n",
    "\n",
    "sns.heatmap(cm_middle, annot=True, fmt=\"d\", ax=ax[0,1])\n",
    "ax[0,1].set_xlabel('Predicted values')\n",
    "ax[0,1].set_ylabel('Real values')\n",
    "ax[0,1].set_title('MIDDLE')\n",
    "\n",
    "sns.heatmap(cm_bottom, annot=True, fmt=\"d\", ax=ax[1,0])\n",
    "ax[1,0].set_xlabel('Predicted values')\n",
    "ax[1,0].set_ylabel('Real values')\n",
    "ax[1,0].set_title('BOTTOM')\n",
    "\n",
    "sns.heatmap(cm_jungle, annot=True, fmt=\"d\", ax=ax[1,1])\n",
    "ax[1,1].set_xlabel('Predicted values')\n",
    "ax[1,1].set_ylabel('Real values')\n",
    "ax[1,1].set_title('JUNGLE')\n",
    "\n",
    "plt.tight_layout()\n",
    "plt.show()"
   ]
  },
  {
   "cell_type": "markdown",
   "id": "6ace36b1",
   "metadata": {},
   "source": [
    "### Statystyki zawodników"
   ]
  },
  {
   "cell_type": "code",
   "execution_count": null,
   "id": "5e44bf37",
   "metadata": {},
   "outputs": [],
   "source": [
    "data = data.reset_index(drop = True)\n",
    "data"
   ]
  },
  {
   "cell_type": "code",
   "execution_count": null,
   "id": "3e01beb6",
   "metadata": {},
   "outputs": [],
   "source": [
    "data_grouped = data.groupby('summonerName')[['kills', 'assists', 'deaths','win']].agg(['mean', lambda x: x.sum()/x.count()])\n",
    "\n",
    "new_cols = []\n",
    "for i, j in data_grouped:\n",
    "    new_cols.append(str(i) + '_' +str(j))\n",
    "data_grouped.columns = new_cols\n",
    "data_grouped = data_grouped[['kills_mean', 'assists_mean', 'deaths_mean', 'win_<lambda_0>']]\n",
    "data_grouped.reset_index(inplace = True)\n",
    "data_grouped = round(data_grouped, 2)\n",
    "data_grouped.columns = ['Summoner Name', 'Average number of kills', 'Average number of assists', 'Average number of deaths', 'Win rate']\n",
    "data_grouped"
   ]
  },
  {
   "cell_type": "code",
   "execution_count": null,
   "id": "2166267a",
   "metadata": {
    "scrolled": false
   },
   "outputs": [],
   "source": [
    "app = JupyterDash()\n",
    "\n",
    "app.layout = html.Div([\n",
    "    dcc.Input(id='my-input', value=data_grouped['Summoner Name'].iloc[0], type='text'),\n",
    "    html.Button(id='submit-button', n_clicks=0, children='Szukaj'),\n",
    "    html.Div(id='my-output', style={'width': '1000px', 'overflowX': 'auto'}),\n",
    "    html.Div([\n",
    "        dcc.Graph(id='my-graph', style={'width': '500px'}),\n",
    "        dcc.Graph(id='my-pie', style={'width': '500px'})\n",
    "    ], style={'display': 'flex', 'width': '1000px', 'justifyContent': 'space-between'})\n",
    "], style={'width': '100%', 'margin': '0 auto'})\n",
    "\n",
    "@app.callback(\n",
    "    [Output('my-output', 'children'),\n",
    "     Output('my-graph', 'figure'),\n",
    "     Output('my-pie', 'figure')],\n",
    "    [Input('submit-button', 'n_clicks')],\n",
    "    [State('my-input', 'value')]\n",
    ")\n",
    "def update_output_div(n_clicks, input_value):\n",
    "    if n_clicks > 0:\n",
    "        filtered_df = data_grouped[data_grouped['Summoner Name'] == input_value] if input_value in data_grouped['Summoner Name'].values else data_grouped[data_grouped['summonerName'] == 'Annivas']\n",
    "\n",
    "        table = dash_table.DataTable(\n",
    "            data=filtered_df.to_dict('records'),\n",
    "            columns=[{'name': i, 'id': i} for i in filtered_df.columns],\n",
    "            style_cell={'textAlign': 'left', 'padding': '10px'},\n",
    "            style_header={\n",
    "                'backgroundColor': 'powderblue',\n",
    "                'fontWeight': 'bold'\n",
    "            },\n",
    "            style_data_conditional=[\n",
    "                {\n",
    "                    'if': {'row_index': 'odd'},\n",
    "                    'backgroundColor': 'lavender'\n",
    "                }\n",
    "            ],\n",
    "            style_table={'width': '100%', 'maxHeight': '500px', 'overflowY': 'auto'}\n",
    "        )\n",
    "\n",
    "        figure = go.Figure(data=[\n",
    "            go.Bar(name='Average number of kills', x=filtered_df['Summoner Name'], y=filtered_df['Average number of kills'], marker_color='lightsalmon'),\n",
    "            go.Bar(name='Average number of assists', x=filtered_df['Summoner Name'], y=filtered_df['Average number of assists'], marker_color='palevioletred'),\n",
    "            go.Bar(name='Average number of deaths', x=filtered_df['Summoner Name'], y=filtered_df['Average number of deaths'], marker_color='cornflowerblue')\n",
    "        ])\n",
    "        figure.update_layout(\n",
    "            autosize=False,\n",
    "            width=500,\n",
    "            height=500,\n",
    "            margin=dict(l=50, r=50, b=100, t=100, pad=4),\n",
    "            paper_bgcolor=\"mintcream\",\n",
    "            barmode='group'\n",
    "        )\n",
    "\n",
    "        pie = go.Figure(data=[\n",
    "            go.Pie(labels=['Win', 'Loss'], values=[filtered_df['Win rate'].iloc[0], 1-filtered_df['Win rate'].iloc[0]], hole=0.3, marker_colors=['skyblue', 'peachpuff'])\n",
    "        ])\n",
    "        pie.update_layout(\n",
    "            autosize=False,\n",
    "            width=500,\n",
    "            height=500,\n",
    "            margin=dict(l=50, r=50, b=100, t=100, pad=4),\n",
    "            paper_bgcolor=\"mintcream\"\n",
    "        )\n",
    "\n",
    "        return table, figure, pie\n",
    "    else:\n",
    "        return dash.no_update, dash.no_update, dash.no_update\n",
    "\n",
    "app.run_server(mode=\"inline\", port=8302)\n"
   ]
  },
  {
   "cell_type": "markdown",
   "id": "3ddd239b",
   "metadata": {},
   "source": [
    "### Zależności między zmiennymi w podziale na pozycje"
   ]
  },
  {
   "cell_type": "code",
   "execution_count": null,
   "id": "85f2102b",
   "metadata": {},
   "outputs": [],
   "source": [
    "data['kda']=round((data['kills']+data['assists'])/data['deaths'],2)\n",
    "data['timePlayed']=round(data['timePlayed']/60,0)\n",
    "\n"
   ]
  },
  {
   "cell_type": "code",
   "execution_count": null,
   "id": "08137435",
   "metadata": {},
   "outputs": [],
   "source": [
    "app = JupyterDash(__name__)\n",
    "df=data\n",
    "column_names = df.columns.tolist()\n",
    "\n",
    "\n",
    "column_names = [col for col in column_names if col not in ['win', 'championName', 'summonerName','lane','kills','assists','deaths']]\n",
    "lane_values = df['lane'].unique()\n",
    "\n",
    "app.layout = html.Div([\n",
    "    html.Div([\n",
    "        html.Div([\n",
    "            dcc.Dropdown(\n",
    "                id='xaxis-column',\n",
    "                options=[{'label': i, 'value': i} for i in column_names],\n",
    "                value='totalDamageDealtToChampions' \n",
    "            ),\n",
    "            dcc.RadioItems(\n",
    "                id='xaxis-type',\n",
    "                options=[{'label': i, 'value': i} for i in ['Linear', 'Log']],\n",
    "                value='Linear',\n",
    "                inline=True\n",
    "            )\n",
    "        ], style={'width': '48%', 'display': 'inline-block'}),\n",
    "\n",
    "        html.Div([\n",
    "            dcc.Dropdown(\n",
    "                id='yaxis-column',\n",
    "                options=[{'label': i, 'value': i} for i in column_names],\n",
    "                value='kda'\n",
    "            ),\n",
    "            dcc.RadioItems(\n",
    "                id='yaxis-type',\n",
    "                options=[{'label': i, 'value': i} for i in ['Linear', 'Log']],\n",
    "                value='Linear',\n",
    "                inline=True\n",
    "            )\n",
    "        ], style={'width': '48%', 'float': 'right', 'display': 'inline-block'})\n",
    "    ]),\n",
    "\n",
    "    dcc.Graph(id='indicator-graphic'),\n",
    "\n",
    "    dcc.Slider(\n",
    "        id='number_observ--slider',\n",
    "        min=df.index.min(),\n",
    "        max=df.index.max(),\n",
    "        step=None,\n",
    "        value=df.index.max()\n",
    "    )\n",
    "])\n",
    "\n",
    "@app.callback(\n",
    "    Output('indicator-graphic', 'figure'),\n",
    "    Input('xaxis-column', 'value'),\n",
    "    Input('yaxis-column', 'value'),\n",
    "    Input('xaxis-type', 'value'),\n",
    "    Input('yaxis-type', 'value'),\n",
    "    Input('number_observ--slider', 'value'))\n",
    "def update_graph(xaxis_column_name, yaxis_column_name,\n",
    "                 xaxis_type, yaxis_type,\n",
    "                 numb_obs_value):\n",
    "    dff = df.loc[:numb_obs_value]\n",
    "\n",
    "    fig = px.scatter(data_frame=dff,\n",
    "                 x=xaxis_column_name,\n",
    "                 y=yaxis_column_name,\n",
    "                 color='lane',\n",
    "                 hover_name='summonerName',\n",
    "                 template='plotly_dark')\n",
    "\n",
    "    fig.update_layout(margin={'l': 40, 'b': 40, 't': 10, 'r': 0}, hovermode='closest')\n",
    "\n",
    "    fig.update_xaxes(title=xaxis_column_name,\n",
    "                     type='linear' if xaxis_type == 'Linear' else 'log')\n",
    "\n",
    "    fig.update_yaxes(title=yaxis_column_name,\n",
    "                     type='linear' if yaxis_type == 'Linear' else 'log')\n",
    "\n",
    "    return fig\n",
    "\n",
    "\n",
    "app.run_server(mode='inline', port=8301)"
   ]
  },
  {
   "cell_type": "code",
   "execution_count": null,
   "id": "879927dc",
   "metadata": {},
   "outputs": [],
   "source": []
  }
 ],
 "metadata": {
  "kernelspec": {
   "display_name": "Python 3 (ipykernel)",
   "language": "python",
   "name": "python3"
  },
  "language_info": {
   "codemirror_mode": {
    "name": "ipython",
    "version": 3
   },
   "file_extension": ".py",
   "mimetype": "text/x-python",
   "name": "python",
   "nbconvert_exporter": "python",
   "pygments_lexer": "ipython3",
   "version": "3.10.9"
  }
 },
 "nbformat": 4,
 "nbformat_minor": 5
}
